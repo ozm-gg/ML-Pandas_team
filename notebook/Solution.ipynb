{
 "cells": [
  {
   "cell_type": "code",
   "execution_count": 1,
   "id": "ee79327a",
   "metadata": {},
   "outputs": [
    {
     "name": "stdout",
     "output_type": "stream",
     "text": [
      "Defaulting to user installation because normal site-packages is not writeable\n",
      "Requirement already satisfied: catboost in /home/vadosik/.local/lib/python3.10/site-packages (1.2.7)\n",
      "Requirement already satisfied: graphviz in /home/vadosik/.local/lib/python3.10/site-packages (from catboost) (0.20.3)\n",
      "Requirement already satisfied: matplotlib in /home/vadosik/.local/lib/python3.10/site-packages (from catboost) (3.9.0)\n",
      "Requirement already satisfied: numpy<2.0,>=1.16.0 in /home/vadosik/.local/lib/python3.10/site-packages (from catboost) (1.26.4)\n",
      "Requirement already satisfied: pandas>=0.24 in /home/vadosik/.local/lib/python3.10/site-packages (from catboost) (2.2.2)\n",
      "Requirement already satisfied: scipy in /home/vadosik/.local/lib/python3.10/site-packages (from catboost) (1.14.1)\n",
      "Requirement already satisfied: plotly in /home/vadosik/.local/lib/python3.10/site-packages (from catboost) (5.24.1)\n",
      "Requirement already satisfied: six in /home/vadosik/.local/lib/python3.10/site-packages (from catboost) (1.16.0)\n",
      "Requirement already satisfied: python-dateutil>=2.8.2 in /home/vadosik/.local/lib/python3.10/site-packages (from pandas>=0.24->catboost) (2.9.0.post0)\n",
      "Requirement already satisfied: pytz>=2020.1 in /usr/lib/python3/dist-packages (from pandas>=0.24->catboost) (2022.1)\n",
      "Requirement already satisfied: tzdata>=2022.7 in /home/vadosik/.local/lib/python3.10/site-packages (from pandas>=0.24->catboost) (2024.1)\n",
      "Requirement already satisfied: contourpy>=1.0.1 in /home/vadosik/.local/lib/python3.10/site-packages (from matplotlib->catboost) (1.2.1)\n",
      "Requirement already satisfied: cycler>=0.10 in /home/vadosik/.local/lib/python3.10/site-packages (from matplotlib->catboost) (0.12.1)\n",
      "Requirement already satisfied: fonttools>=4.22.0 in /home/vadosik/.local/lib/python3.10/site-packages (from matplotlib->catboost) (4.53.0)\n",
      "Requirement already satisfied: kiwisolver>=1.3.1 in /home/vadosik/.local/lib/python3.10/site-packages (from matplotlib->catboost) (1.4.5)\n",
      "Requirement already satisfied: packaging>=20.0 in /home/vadosik/.local/lib/python3.10/site-packages (from matplotlib->catboost) (24.1)\n",
      "Requirement already satisfied: pillow>=8 in /usr/lib/python3/dist-packages (from matplotlib->catboost) (9.0.1)\n",
      "Requirement already satisfied: pyparsing>=2.3.1 in /usr/lib/python3/dist-packages (from matplotlib->catboost) (2.4.7)\n",
      "Requirement already satisfied: tenacity>=6.2.0 in /home/vadosik/.local/lib/python3.10/site-packages (from plotly->catboost) (9.0.0)\n",
      "\n",
      "\u001b[1m[\u001b[0m\u001b[34;49mnotice\u001b[0m\u001b[1;39;49m]\u001b[0m\u001b[39;49m A new release of pip is available: \u001b[0m\u001b[31;49m24.2\u001b[0m\u001b[39;49m -> \u001b[0m\u001b[32;49m24.3.1\u001b[0m\n",
      "\u001b[1m[\u001b[0m\u001b[34;49mnotice\u001b[0m\u001b[1;39;49m]\u001b[0m\u001b[39;49m To update, run: \u001b[0m\u001b[32;49mpip install --upgrade pip\u001b[0m\n",
      "Defaulting to user installation because normal site-packages is not writeable\n",
      "Requirement already satisfied: xgboost in /home/vadosik/.local/lib/python3.10/site-packages (2.1.3)\n",
      "Requirement already satisfied: numpy in /home/vadosik/.local/lib/python3.10/site-packages (from xgboost) (1.26.4)\n",
      "Requirement already satisfied: nvidia-nccl-cu12 in /home/vadosik/.local/lib/python3.10/site-packages (from xgboost) (2.20.5)\n",
      "Requirement already satisfied: scipy in /home/vadosik/.local/lib/python3.10/site-packages (from xgboost) (1.14.1)\n",
      "\n",
      "\u001b[1m[\u001b[0m\u001b[34;49mnotice\u001b[0m\u001b[1;39;49m]\u001b[0m\u001b[39;49m A new release of pip is available: \u001b[0m\u001b[31;49m24.2\u001b[0m\u001b[39;49m -> \u001b[0m\u001b[32;49m24.3.1\u001b[0m\n",
      "\u001b[1m[\u001b[0m\u001b[34;49mnotice\u001b[0m\u001b[1;39;49m]\u001b[0m\u001b[39;49m To update, run: \u001b[0m\u001b[32;49mpip install --upgrade pip\u001b[0m\n",
      "Defaulting to user installation because normal site-packages is not writeable\n",
      "Requirement already satisfied: dash in /home/vadosik/.local/lib/python3.10/site-packages (2.18.2)\n",
      "Requirement already satisfied: Flask<3.1,>=1.0.4 in /home/vadosik/.local/lib/python3.10/site-packages (from dash) (3.0.3)\n",
      "Requirement already satisfied: Werkzeug<3.1 in /home/vadosik/.local/lib/python3.10/site-packages (from dash) (3.0.6)\n",
      "Requirement already satisfied: plotly>=5.0.0 in /home/vadosik/.local/lib/python3.10/site-packages (from dash) (5.24.1)\n",
      "Requirement already satisfied: dash-html-components==2.0.0 in /home/vadosik/.local/lib/python3.10/site-packages (from dash) (2.0.0)\n",
      "Requirement already satisfied: dash-core-components==2.0.0 in /home/vadosik/.local/lib/python3.10/site-packages (from dash) (2.0.0)\n",
      "Requirement already satisfied: dash-table==5.0.0 in /home/vadosik/.local/lib/python3.10/site-packages (from dash) (5.0.0)\n",
      "Requirement already satisfied: importlib-metadata in /usr/lib/python3/dist-packages (from dash) (4.6.4)\n",
      "Requirement already satisfied: typing-extensions>=4.1.1 in /home/vadosik/.local/lib/python3.10/site-packages (from dash) (4.12.2)\n",
      "Requirement already satisfied: requests in /home/vadosik/.local/lib/python3.10/site-packages (from dash) (2.32.3)\n",
      "Requirement already satisfied: retrying in /home/vadosik/.local/lib/python3.10/site-packages (from dash) (1.3.4)\n",
      "Requirement already satisfied: nest-asyncio in /home/vadosik/.local/lib/python3.10/site-packages (from dash) (1.6.0)\n",
      "Requirement already satisfied: setuptools in /usr/lib/python3/dist-packages (from dash) (59.6.0)\n",
      "Requirement already satisfied: Jinja2>=3.1.2 in /home/vadosik/.local/lib/python3.10/site-packages (from Flask<3.1,>=1.0.4->dash) (3.1.4)\n",
      "Requirement already satisfied: itsdangerous>=2.1.2 in /home/vadosik/.local/lib/python3.10/site-packages (from Flask<3.1,>=1.0.4->dash) (2.2.0)\n",
      "Requirement already satisfied: click>=8.1.3 in /home/vadosik/.local/lib/python3.10/site-packages (from Flask<3.1,>=1.0.4->dash) (8.1.7)\n",
      "Requirement already satisfied: blinker>=1.6.2 in /home/vadosik/.local/lib/python3.10/site-packages (from Flask<3.1,>=1.0.4->dash) (1.9.0)\n",
      "Requirement already satisfied: tenacity>=6.2.0 in /home/vadosik/.local/lib/python3.10/site-packages (from plotly>=5.0.0->dash) (9.0.0)\n",
      "Requirement already satisfied: packaging in /home/vadosik/.local/lib/python3.10/site-packages (from plotly>=5.0.0->dash) (24.1)\n",
      "Requirement already satisfied: MarkupSafe>=2.1.1 in /home/vadosik/.local/lib/python3.10/site-packages (from Werkzeug<3.1->dash) (2.1.5)\n",
      "Requirement already satisfied: charset-normalizer<4,>=2 in /home/vadosik/.local/lib/python3.10/site-packages (from requests->dash) (3.3.2)\n",
      "Requirement already satisfied: idna<4,>=2.5 in /usr/lib/python3/dist-packages (from requests->dash) (3.3)\n",
      "Requirement already satisfied: urllib3<3,>=1.21.1 in /home/vadosik/.local/lib/python3.10/site-packages (from requests->dash) (2.2.2)\n",
      "Requirement already satisfied: certifi>=2017.4.17 in /usr/lib/python3/dist-packages (from requests->dash) (2020.6.20)\n",
      "Requirement already satisfied: six>=1.7.0 in /home/vadosik/.local/lib/python3.10/site-packages (from retrying->dash) (1.16.0)\n",
      "\n",
      "\u001b[1m[\u001b[0m\u001b[34;49mnotice\u001b[0m\u001b[1;39;49m]\u001b[0m\u001b[39;49m A new release of pip is available: \u001b[0m\u001b[31;49m24.2\u001b[0m\u001b[39;49m -> \u001b[0m\u001b[32;49m24.3.1\u001b[0m\n",
      "\u001b[1m[\u001b[0m\u001b[34;49mnotice\u001b[0m\u001b[1;39;49m]\u001b[0m\u001b[39;49m To update, run: \u001b[0m\u001b[32;49mpip install --upgrade pip\u001b[0m\n"
     ]
    }
   ],
   "source": [
    "!pip install catboost\n",
    "!pip install xgboost\n",
    "!pip install dash"
   ]
  },
  {
   "cell_type": "code",
   "execution_count": 2,
   "id": "faedd892-f2b3-4eb5-a9b3-eefad26e5df2",
   "metadata": {},
   "outputs": [],
   "source": [
    "import os\n",
    "from typing import Any, Dict, Tuple\n",
    "\n",
    "import numpy as np\n",
    "import pandas as pd\n",
    "from sklearn.metrics import (\n",
    "    mean_absolute_percentage_error, \n",
    "    mean_squared_log_error, \n",
    "    roc_auc_score\n",
    ")\n",
    "\n",
    "\n",
    "def calc_all_metrics(data: Any) -> Dict[str, float]:\n",
    "    def is_credit_issued(x: Any):\n",
    "        ratio = x['__price_predict'] / x['__price_doc']\n",
    "        if x['__priority'] <= 0:\n",
    "            value = 0.0\n",
    "        elif 0.9 < ratio < 1.0:\n",
    "            value = x['__price_predict']\n",
    "        elif 1.0 <= ratio < 1.1:\n",
    "            value = x['__price_doc']\n",
    "        else:\n",
    "            value = 0.0\n",
    "\n",
    "        return value\n",
    "\n",
    "    def calc_profit(x: pd.DataFrame) -> np.array:\n",
    "        if x['is_credit'] == 0.0:\n",
    "            return 0.0\n",
    "        if x['__churn'] == 1:\n",
    "            return -x['debt'] * 2.0\n",
    "        if x['debt'] < 5:\n",
    "            return x['debt'] * 0.3\n",
    "        if x['debt'] < 9:\n",
    "            return x['debt'] * 0.4\n",
    "        if x['debt'] >= 9:\n",
    "            return x['debt'] * 0.5\n",
    "\n",
    "    max_account = 25e3\n",
    "    \n",
    "    s = (\n",
    "        data[['__priority', '__churn', '__churn_prob', '__price_doc', '__price_predict']]\n",
    "        .sort_values('__priority', ascending=False)\n",
    "        .copy(True)\n",
    "    )\n",
    "\n",
    "    s['debt'] = s.apply(is_credit_issued, axis=1)\n",
    "    s['debt_cum'] = s['debt'].cumsum()\n",
    "    s['is_credit'] = 0\n",
    "    s.loc[(s['debt'] > 0) & (s['debt_cum'] <= max_account), 'is_credit'] = 1\n",
    "    s['profit'] = s.apply(calc_profit, axis=1)\n",
    "\n",
    "    total_profit = round(s['profit'].sum(), 2)\n",
    "    good_credits_count = int(s['is_credit'].sum())\n",
    "    good_credits_debt = int(s[s['is_credit'] == 1]['debt'].sum())\n",
    "    bad_credits_count = s[s['is_credit'] == 1]['__churn'].sum()\n",
    "\n",
    "    return {\n",
    "        'total_profit': int(total_profit),\n",
    "        'issue_amount': good_credits_debt,\n",
    "        'bad_loans': round(bad_credits_count / (good_credits_count + bad_credits_count) * 100.0, 1),\n",
    "        'churn_auc': round(roc_auc_score(y_true=s['__churn'], y_score=s['__churn_prob']), 3),\n",
    "        'price_nmsle': round(\n",
    "            -mean_squared_log_error(y_true=s['__price_doc'], y_pred=s['__price_predict']),\n",
    "            3,\n",
    "        ),\n",
    "    }\n",
    "\n",
    "\n",
    "METRICS_DESC = {\n",
    "    'total_profit': 'Итоговая полученная прибыль (Ключевая метрика), млн руб.',\n",
    "    'issue_amount': 'Итоговая выданная сумма (25 000 максимум), млн руб.',\n",
    "    'bad_loans': 'Доля выданных кредитов с задолженностью, %',\n",
    "    'churn_auc': 'Метрика ROC AUC по модели предсказания задолженности',\n",
    "    'price_nmsle': 'Метрика Negative Mean Squared Logarithmic Error по модели предсказания стоимости',\n",
    "}"
   ]
  },
  {
   "cell_type": "code",
   "execution_count": 3,
   "id": "51d5c6fa-45bc-4174-a820-a124360f0765",
   "metadata": {},
   "outputs": [
    {
     "data": {
      "text/plain": [
       "'../data/submissions/ml_pandas_submission.csv'"
      ]
     },
     "execution_count": 3,
     "metadata": {},
     "output_type": "execute_result"
    }
   ],
   "source": [
    "import datetime\n",
    "\n",
    "RANDOM_STATE = 42\n",
    "\n",
    "now = datetime.datetime.now().strftime('%Y-%m-%d_%H%M')\n",
    "SUBMISSION_PATH = f'../data/submissions/ml_pandas_submission.csv'\n",
    "SUBMISSION_PATH"
   ]
  },
  {
   "cell_type": "code",
   "execution_count": 4,
   "id": "abe70066-79ba-4b2c-b506-ba8136c5a8df",
   "metadata": {},
   "outputs": [
    {
     "data": {
      "text/plain": [
       "((20483, 61), (9988, 59))"
      ]
     },
     "execution_count": 4,
     "metadata": {},
     "output_type": "execute_result"
    }
   ],
   "source": [
    "import pandas as pd\n",
    "data = pd.read_csv('../data/train.csv')\n",
    "submission = pd.read_csv('../data/test.csv')\n",
    "data.shape, submission.shape"
   ]
  },
  {
   "cell_type": "code",
   "execution_count": 5,
   "id": "5600157b-c444-4f68-8363-4608b8fa62e4",
   "metadata": {},
   "outputs": [
    {
     "name": "stdout",
     "output_type": "stream",
     "text": [
      "<class 'pandas.core.frame.DataFrame'>\n",
      "RangeIndex: 20483 entries, 0 to 20482\n",
      "Data columns (total 14 columns):\n",
      " #   Column                       Non-Null Count  Dtype  \n",
      "---  ------                       --------------  -----  \n",
      " 0   max_floor                    10911 non-null  float64\n",
      " 1   state                        8469 non-null   float64\n",
      " 2   railroad_station_walk_km     20473 non-null  float64\n",
      " 3   0_17_all                     18080 non-null  float64\n",
      " 4   build_count_wood             17420 non-null  float64\n",
      " 5   life_sq                      16290 non-null  float64\n",
      " 6   cafe_sum_1000_min_price_avg  15887 non-null  float64\n",
      " 7   metro_km_walk                20473 non-null  float64\n",
      " 8   total_trans_amt              18080 non-null  float64\n",
      " 9   cafe_sum_1500_min_price_avg  17485 non-null  float64\n",
      " 10  floor                        20316 non-null  float64\n",
      " 11  num_room                     10911 non-null  float64\n",
      " 12  build_year                   8901 non-null   float64\n",
      " 13  build_count_mix              17420 non-null  float64\n",
      "dtypes: float64(14)\n",
      "memory usage: 2.2 MB\n"
     ]
    }
   ],
   "source": [
    "data.loc[:, data.isnull().any()].info()"
   ]
  },
  {
   "cell_type": "code",
   "execution_count": 6,
   "id": "65fbc226-343b-45a5-9f91-8c7779d1ea35",
   "metadata": {},
   "outputs": [
    {
     "name": "stdout",
     "output_type": "stream",
     "text": [
      "<class 'pandas.core.frame.DataFrame'>\n",
      "RangeIndex: 20483 entries, 0 to 20482\n",
      "Data columns (total 61 columns):\n",
      " #   Column                                 Non-Null Count  Dtype  \n",
      "---  ------                                 --------------  -----  \n",
      " 0   max_floor                              10911 non-null  float64\n",
      " 1   state                                  8469 non-null   float64\n",
      " 2   marital_status                         20483 non-null  object \n",
      " 3   big_market_raion                       20483 non-null  object \n",
      " 4   total_revolving_bal                    20483 non-null  int64  \n",
      " 5   market_count_1500                      20483 non-null  int64  \n",
      " 6   leisure_count_3000                     20483 non-null  int64  \n",
      " 7   total_ct_chng_q4_q1                    20483 non-null  float64\n",
      " 8   water_1line                            20483 non-null  object \n",
      " 9   railroad_station_walk_km               20473 non-null  float64\n",
      " 10  culture_objects_top_25                 20483 non-null  object \n",
      " 11  contacts_count_12_mon                  20483 non-null  int64  \n",
      " 12  0_17_all                               18080 non-null  float64\n",
      " 13  trc_count_2000                         20483 non-null  int64  \n",
      " 14  product_type                           20483 non-null  object \n",
      " 15  build_count_wood                       17420 non-null  float64\n",
      " 16  credit_limit                           20483 non-null  float64\n",
      " 17  total_trans_ct                         20483 non-null  int64  \n",
      " 18  leisure_count_5000                     20483 non-null  int64  \n",
      " 19  life_sq                                16290 non-null  float64\n",
      " 20  cafe_count_1000_price_1000             20483 non-null  int64  \n",
      " 21  mkad_km                                20483 non-null  float64\n",
      " 22  school_education_centers_top_20_raion  20483 non-null  int64  \n",
      " 23  big_road1_1line                        20483 non-null  object \n",
      " 24  card_category                          20483 non-null  object \n",
      " 25  avg_utilization_ratio                  20483 non-null  float64\n",
      " 26  public_transport_station_min_walk      20483 non-null  float64\n",
      " 27  income_category                        20483 non-null  object \n",
      " 28  customer_age                           20483 non-null  int64  \n",
      " 29  thermal_power_plant_raion              20483 non-null  object \n",
      " 30  radiation_raion                        20483 non-null  object \n",
      " 31  detention_facility_km                  20483 non-null  float64\n",
      " 32  sport_count_2000                       20483 non-null  int64  \n",
      " 33  cafe_sum_1000_min_price_avg            15887 non-null  float64\n",
      " 34  total_amt_chng_q4_q1                   20483 non-null  float64\n",
      " 35  ecology                                20483 non-null  object \n",
      " 36  metro_km_walk                          20473 non-null  float64\n",
      " 37  office_sqm_5000                        20483 non-null  int64  \n",
      " 38  gender                                 20483 non-null  object \n",
      " 39  oil_chemistry_raion                    20483 non-null  object \n",
      " 40  nuclear_reactor_raion                  20483 non-null  object \n",
      " 41  total_trans_amt                        18080 non-null  float64\n",
      " 42  months_inactive_12_mon                 20483 non-null  int64  \n",
      " 43  cafe_sum_1500_min_price_avg            17485 non-null  float64\n",
      " 44  railroad_1line                         20483 non-null  object \n",
      " 45  floor                                  20316 non-null  float64\n",
      " 46  num_room                               10911 non-null  float64\n",
      " 47  timestamp                              20483 non-null  object \n",
      " 48  education_level                        20483 non-null  object \n",
      " 49  months_on_book                         20483 non-null  int64  \n",
      " 50  dependent_count                        20483 non-null  int64  \n",
      " 51  avg_open_to_buy                        20483 non-null  float64\n",
      " 52  build_year                             8901 non-null   float64\n",
      " 53  incineration_raion                     20483 non-null  object \n",
      " 54  full_sq                                20483 non-null  int64  \n",
      " 55  total_relationship_count               20483 non-null  int64  \n",
      " 56  detention_facility_raion               20483 non-null  object \n",
      " 57  build_count_mix                        17420 non-null  float64\n",
      " 58  railroad_terminal_raion                20483 non-null  object \n",
      " 59  __churn                                20483 non-null  int64  \n",
      " 60  __price_doc                            20483 non-null  float64\n",
      "dtypes: float64(23), int64(18), object(20)\n",
      "memory usage: 9.5+ MB\n"
     ]
    }
   ],
   "source": [
    "data.info()"
   ]
  },
  {
   "cell_type": "code",
   "execution_count": 7,
   "id": "cdc479a7-96d8-420a-acab-b84cb0b999cb",
   "metadata": {},
   "outputs": [],
   "source": [
    "from sklearn.impute import SimpleImputer\n",
    "\n",
    "# Выделяем метки и удаляем их из данных\n",
    "churn = data[\"__churn\"]\n",
    "price = data[\"__price_doc\"]\n",
    "data = data.drop([\"__churn\", \"__price_doc\"], axis=1)\n",
    "\n",
    "data = data.drop([\"timestamp\"], axis=1)\n",
    "submission = submission.drop([\"timestamp\"], axis=1)\n",
    "\n",
    "# Удаляем столбцы с большим количеством пропусков\n",
    "threshold = 0.4\n",
    "missing_fraction = data.isnull().mean()\n",
    "columns_to_drop = missing_fraction[missing_fraction > threshold].index\n",
    "\n",
    "data = data.drop(columns=columns_to_drop)\n",
    "submission = submission.drop(columns=columns_to_drop)\n",
    "\n",
    "# Разделяем столбцы на числовые и категориальные\n",
    "numeric_cols = data.select_dtypes(include=[\"float64\", \"int64\"]).columns\n",
    "categorical_cols = data.select_dtypes(include=[\"object\"]).columns\n",
    "\n",
    "# Заполняем числовые данные медианой\n",
    "num_imputer = SimpleImputer(strategy=\"median\")\n",
    "data[numeric_cols] = num_imputer.fit_transform(data[numeric_cols])\n",
    "submission[numeric_cols] = num_imputer.transform(submission[numeric_cols])\n",
    "\n",
    "# Заполняем категориальные данные самым частым значением\n",
    "cat_imputer = SimpleImputer(strategy=\"most_frequent\")\n",
    "data[categorical_cols] = cat_imputer.fit_transform(data[categorical_cols])\n",
    "submission[categorical_cols] = cat_imputer.transform(submission[categorical_cols])"
   ]
  },
  {
   "cell_type": "code",
   "execution_count": 8,
   "id": "e7a62048-3f2d-4823-bdcf-12b2ae45a0bc",
   "metadata": {},
   "outputs": [],
   "source": [
    "from sklearn.preprocessing import StandardScaler\n",
    "\n",
    "price_scaler = StandardScaler()\n",
    "scaler = StandardScaler()\n",
    "data[numeric_cols] = scaler.fit_transform(data[numeric_cols])\n",
    "submission[numeric_cols] = scaler.transform(submission[numeric_cols])\n",
    "\n",
    "price_scaled = price_scaler.fit_transform(price.values.reshape(-1, 1))\n"
   ]
  },
  {
   "cell_type": "code",
   "execution_count": 9,
   "id": "82a3c6ad-9e23-423f-96d0-3d2360a08f34",
   "metadata": {},
   "outputs": [
    {
     "name": "stdout",
     "output_type": "stream",
     "text": [
      "<class 'pandas.core.frame.DataFrame'>\n",
      "RangeIndex: 20483 entries, 0 to 20482\n",
      "Data columns (total 54 columns):\n",
      " #   Column                                 Non-Null Count  Dtype  \n",
      "---  ------                                 --------------  -----  \n",
      " 0   marital_status                         20483 non-null  object \n",
      " 1   big_market_raion                       20483 non-null  object \n",
      " 2   total_revolving_bal                    20483 non-null  float64\n",
      " 3   market_count_1500                      20483 non-null  float64\n",
      " 4   leisure_count_3000                     20483 non-null  float64\n",
      " 5   total_ct_chng_q4_q1                    20483 non-null  float64\n",
      " 6   water_1line                            20483 non-null  object \n",
      " 7   railroad_station_walk_km               20483 non-null  float64\n",
      " 8   culture_objects_top_25                 20483 non-null  object \n",
      " 9   contacts_count_12_mon                  20483 non-null  float64\n",
      " 10  0_17_all                               20483 non-null  float64\n",
      " 11  trc_count_2000                         20483 non-null  float64\n",
      " 12  product_type                           20483 non-null  object \n",
      " 13  build_count_wood                       20483 non-null  float64\n",
      " 14  credit_limit                           20483 non-null  float64\n",
      " 15  total_trans_ct                         20483 non-null  float64\n",
      " 16  leisure_count_5000                     20483 non-null  float64\n",
      " 17  life_sq                                20483 non-null  float64\n",
      " 18  cafe_count_1000_price_1000             20483 non-null  float64\n",
      " 19  mkad_km                                20483 non-null  float64\n",
      " 20  school_education_centers_top_20_raion  20483 non-null  float64\n",
      " 21  big_road1_1line                        20483 non-null  object \n",
      " 22  card_category                          20483 non-null  object \n",
      " 23  avg_utilization_ratio                  20483 non-null  float64\n",
      " 24  public_transport_station_min_walk      20483 non-null  float64\n",
      " 25  income_category                        20483 non-null  object \n",
      " 26  customer_age                           20483 non-null  float64\n",
      " 27  thermal_power_plant_raion              20483 non-null  object \n",
      " 28  radiation_raion                        20483 non-null  object \n",
      " 29  detention_facility_km                  20483 non-null  float64\n",
      " 30  sport_count_2000                       20483 non-null  float64\n",
      " 31  cafe_sum_1000_min_price_avg            20483 non-null  float64\n",
      " 32  total_amt_chng_q4_q1                   20483 non-null  float64\n",
      " 33  ecology                                20483 non-null  object \n",
      " 34  metro_km_walk                          20483 non-null  float64\n",
      " 35  office_sqm_5000                        20483 non-null  float64\n",
      " 36  gender                                 20483 non-null  object \n",
      " 37  oil_chemistry_raion                    20483 non-null  object \n",
      " 38  nuclear_reactor_raion                  20483 non-null  object \n",
      " 39  total_trans_amt                        20483 non-null  float64\n",
      " 40  months_inactive_12_mon                 20483 non-null  float64\n",
      " 41  cafe_sum_1500_min_price_avg            20483 non-null  float64\n",
      " 42  railroad_1line                         20483 non-null  object \n",
      " 43  floor                                  20483 non-null  float64\n",
      " 44  education_level                        20483 non-null  object \n",
      " 45  months_on_book                         20483 non-null  float64\n",
      " 46  dependent_count                        20483 non-null  float64\n",
      " 47  avg_open_to_buy                        20483 non-null  float64\n",
      " 48  incineration_raion                     20483 non-null  object \n",
      " 49  full_sq                                20483 non-null  float64\n",
      " 50  total_relationship_count               20483 non-null  float64\n",
      " 51  detention_facility_raion               20483 non-null  object \n",
      " 52  build_count_mix                        20483 non-null  float64\n",
      " 53  railroad_terminal_raion                20483 non-null  object \n",
      "dtypes: float64(35), object(19)\n",
      "memory usage: 8.4+ MB\n"
     ]
    }
   ],
   "source": [
    "data.info()"
   ]
  },
  {
   "cell_type": "code",
   "execution_count": 10,
   "id": "3323ed67-c5e0-4453-bbb6-f12157749838",
   "metadata": {},
   "outputs": [
    {
     "name": "stderr",
     "output_type": "stream",
     "text": [
      "/home/vadosik/.local/lib/python3.10/site-packages/sklearn/preprocessing/_encoders.py:242: UserWarning: Found unknown categories in columns [15] during transform. These unknown categories will be encoded as all zeros\n",
      "  warnings.warn(\n"
     ]
    }
   ],
   "source": [
    "from sklearn.preprocessing import OneHotEncoder\n",
    "import pandas as pd\n",
    "\n",
    "\n",
    "encoder = OneHotEncoder(sparse_output=False, drop=\"first\", handle_unknown='ignore')\n",
    "encoded_data = pd.DataFrame(encoder.fit_transform(data[categorical_cols]), columns=encoder.get_feature_names_out(categorical_cols))\n",
    "data = pd.concat([data.drop(categorical_cols, axis=1), encoded_data], axis=1)\n",
    "\n",
    "encoded_submission = pd.DataFrame(encoder.transform(submission[categorical_cols]), columns=encoder.get_feature_names_out(categorical_cols))\n",
    "submission = pd.concat([submission.drop(categorical_cols, axis=1), encoded_submission], axis=1)\n"
   ]
  },
  {
   "cell_type": "code",
   "execution_count": 11,
   "id": "000cc35a-ea28-4f4b-9118-0e4e1ed05868",
   "metadata": {},
   "outputs": [],
   "source": [
    "from sklearn.ensemble import RandomForestClassifier\n",
    "import numpy as np\n",
    "\n",
    "model = RandomForestClassifier()\n",
    "model.fit(data, churn)\n",
    "feature_importances = model.feature_importances_\n",
    "feature_importance_df = pd.DataFrame({\n",
    "    'Feature': data.columns,\n",
    "    'Importance': feature_importances\n",
    "})\n",
    "important_features = np.array(data.columns)[feature_importances > 0.01]\n",
    "data = data[important_features]\n",
    "submission = submission[important_features]"
   ]
  },
  {
   "cell_type": "code",
   "execution_count": 12,
   "id": "53ad2898-9dc4-43cb-82cc-29efa97bb081",
   "metadata": {},
   "outputs": [
    {
     "data": {
      "text/html": [
       "<div>\n",
       "<style scoped>\n",
       "    .dataframe tbody tr th:only-of-type {\n",
       "        vertical-align: middle;\n",
       "    }\n",
       "\n",
       "    .dataframe tbody tr th {\n",
       "        vertical-align: top;\n",
       "    }\n",
       "\n",
       "    .dataframe thead th {\n",
       "        text-align: right;\n",
       "    }\n",
       "</style>\n",
       "<table border=\"1\" class=\"dataframe\">\n",
       "  <thead>\n",
       "    <tr style=\"text-align: right;\">\n",
       "      <th></th>\n",
       "      <th>Feature</th>\n",
       "      <th>Importance</th>\n",
       "    </tr>\n",
       "  </thead>\n",
       "  <tbody>\n",
       "    <tr>\n",
       "      <th>5</th>\n",
       "      <td>contacts_count_12_mon</td>\n",
       "      <td>0.186275</td>\n",
       "    </tr>\n",
       "    <tr>\n",
       "      <th>3</th>\n",
       "      <td>total_ct_chng_q4_q1</td>\n",
       "      <td>0.100685</td>\n",
       "    </tr>\n",
       "    <tr>\n",
       "      <th>10</th>\n",
       "      <td>total_trans_ct</td>\n",
       "      <td>0.075175</td>\n",
       "    </tr>\n",
       "    <tr>\n",
       "      <th>33</th>\n",
       "      <td>total_relationship_count</td>\n",
       "      <td>0.064241</td>\n",
       "    </tr>\n",
       "    <tr>\n",
       "      <th>25</th>\n",
       "      <td>total_trans_amt</td>\n",
       "      <td>0.056144</td>\n",
       "    </tr>\n",
       "    <tr>\n",
       "      <th>26</th>\n",
       "      <td>months_inactive_12_mon</td>\n",
       "      <td>0.041840</td>\n",
       "    </tr>\n",
       "    <tr>\n",
       "      <th>0</th>\n",
       "      <td>total_revolving_bal</td>\n",
       "      <td>0.039900</td>\n",
       "    </tr>\n",
       "    <tr>\n",
       "      <th>22</th>\n",
       "      <td>total_amt_chng_q4_q1</td>\n",
       "      <td>0.036898</td>\n",
       "    </tr>\n",
       "    <tr>\n",
       "      <th>16</th>\n",
       "      <td>avg_utilization_ratio</td>\n",
       "      <td>0.032963</td>\n",
       "    </tr>\n",
       "    <tr>\n",
       "      <th>31</th>\n",
       "      <td>avg_open_to_buy</td>\n",
       "      <td>0.022829</td>\n",
       "    </tr>\n",
       "  </tbody>\n",
       "</table>\n",
       "</div>"
      ],
      "text/plain": [
       "                     Feature  Importance\n",
       "5      contacts_count_12_mon    0.186275\n",
       "3        total_ct_chng_q4_q1    0.100685\n",
       "10            total_trans_ct    0.075175\n",
       "33  total_relationship_count    0.064241\n",
       "25           total_trans_amt    0.056144\n",
       "26    months_inactive_12_mon    0.041840\n",
       "0        total_revolving_bal    0.039900\n",
       "22      total_amt_chng_q4_q1    0.036898\n",
       "16     avg_utilization_ratio    0.032963\n",
       "31           avg_open_to_buy    0.022829"
      ]
     },
     "execution_count": 12,
     "metadata": {},
     "output_type": "execute_result"
    }
   ],
   "source": [
    "feature_importance_df = feature_importance_df.sort_values(by='Importance', ascending=False)\n",
    "feature_importance_df.head(10)"
   ]
  },
  {
   "cell_type": "code",
   "execution_count": 13,
   "id": "01be20df-4066-4299-89a4-b866875a3ac5",
   "metadata": {},
   "outputs": [],
   "source": [
    "from sklearn.model_selection import train_test_split, StratifiedKFold\n",
    "from sklearn.metrics import roc_auc_score, mean_squared_error\n",
    "\n",
    "X_train, X_val, y_churn_train, y_churn_val, y_price_train, y_price_val = train_test_split(\n",
    "    data, churn, price_scaled, test_size=0.5, random_state=RANDOM_STATE\n",
    ")"
   ]
  },
  {
   "cell_type": "code",
   "execution_count": 14,
   "id": "4aad3eff-becd-427c-8b8a-93186efba114",
   "metadata": {},
   "outputs": [],
   "source": [
    "from sklearn.naive_bayes import GaussianNB\n",
    "from sklearn.linear_model import LinearRegression\n",
    "from sklearn.linear_model import LogisticRegression\n",
    "from sklearn.ensemble import RandomForestRegressor\n",
    "import xgboost as xgb\n",
    "\n",
    "churn_model = LogisticRegression()\n",
    "churn_model.fit(X_train, y_churn_train)\n",
    "\n",
    "price_model =  xgb.XGBRegressor(n_estimators = 200, max_depth = 4)\n",
    "price_model.fit(X_train, y_price_train)\n",
    "\n",
    "y_price_pred = price_model.predict(X_val)\n",
    "y_churn_pred = churn_model.predict(X_val)\n",
    "y_price_pred_tr = price_model.predict(X_train)\n",
    "y_churn_pred_tr = churn_model.predict(X_train)"
   ]
  },
  {
   "cell_type": "code",
   "execution_count": 15,
   "id": "4c7b3ef1-377e-47e4-b3e8-15d6fd3c9aa4",
   "metadata": {},
   "outputs": [
    {
     "data": {
      "text/plain": [
       "\"\\nfrom catboost import CatBoostClassifier, CatBoostRegressor, Pool\\n\\ncat_features = [i for i in X_train.columns if X_train[i].dtype == 'object']\\n\\n# Создание и обучение модели для классификации вероятности задолженности\\nchurn_model = CatBoostClassifier(\\n    iterations= 6000,\\n    learning_rate=0.01,\\n    depth=6,\\n    cat_features=cat_features,\\n    verbose=200,\\n    random_state=42\\n)\\n\\nchurn_model.fit(X_train, y_churn_train, eval_set=(X_val, y_churn_val), early_stopping_rounds=50)\\n\\ny_churn_pred = churn_model.predict_proba(X_val)[:, 1]\\ny_churn_pred_tr = churn_model.predict_proba(X_train)[:, 1]\\nroc_auc = roc_auc_score(y_churn_val, y_churn_pred)\\nprint(f'ROC AUC Score for Churn Prediction: {roc_auc:.4f}')\\n\\n# Создание и обучение модели для предсказания цены квартиры\\nprice_model = CatBoostRegressor(\\n    iterations=6000,\\n    learning_rate=0.001,\\n    depth=6,\\n    cat_features=cat_features,\\n    verbose=200,\\n    random_state=42\\n)\\nprice_model.fit(X_train, y_price_train, eval_set=(X_val, y_price_val), early_stopping_rounds=50)\\n\\n# Оценка производительности регрессии\\ny_price_pred = price_model.predict(X_val)\\ny_price_pred_tr = price_model.predict(X_train)\\nrmse = np.sqrt(mean_squared_error(price_scaler.inverse_transform(y_price_val.reshape(-1, 1)), price_scaler.inverse_transform(y_price_pred.reshape(-1, 1))))\\nprint(f'RMSE for Price Prediction: {rmse:.4f}')\\n\\n# Предсказание на тестовом наборе\\n\""
      ]
     },
     "execution_count": 15,
     "metadata": {},
     "output_type": "execute_result"
    }
   ],
   "source": [
    "\"\"\"\n",
    "from catboost import CatBoostClassifier, CatBoostRegressor, Pool\n",
    "\n",
    "cat_features = [i for i in X_train.columns if X_train[i].dtype == 'object']\n",
    "\n",
    "# Создание и обучение модели для классификации вероятности задолженности\n",
    "churn_model = CatBoostClassifier(\n",
    "    iterations= 6000,\n",
    "    learning_rate=0.01,\n",
    "    depth=6,\n",
    "    cat_features=cat_features,\n",
    "    verbose=200,\n",
    "    random_state=42\n",
    ")\n",
    "\n",
    "churn_model.fit(X_train, y_churn_train, eval_set=(X_val, y_churn_val), early_stopping_rounds=50)\n",
    "\n",
    "y_churn_pred = churn_model.predict_proba(X_val)[:, 1]\n",
    "y_churn_pred_tr = churn_model.predict_proba(X_train)[:, 1]\n",
    "roc_auc = roc_auc_score(y_churn_val, y_churn_pred)\n",
    "print(f'ROC AUC Score for Churn Prediction: {roc_auc:.4f}')\n",
    "\n",
    "# Создание и обучение модели для предсказания цены квартиры\n",
    "price_model = CatBoostRegressor(\n",
    "    iterations=6000,\n",
    "    learning_rate=0.001,\n",
    "    depth=6,\n",
    "    cat_features=cat_features,\n",
    "    verbose=200,\n",
    "    random_state=42\n",
    ")\n",
    "price_model.fit(X_train, y_price_train, eval_set=(X_val, y_price_val), early_stopping_rounds=50)\n",
    "\n",
    "# Оценка производительности регрессии\n",
    "y_price_pred = price_model.predict(X_val)\n",
    "y_price_pred_tr = price_model.predict(X_train)\n",
    "rmse = np.sqrt(mean_squared_error(price_scaler.inverse_transform(y_price_val.reshape(-1, 1)), price_scaler.inverse_transform(y_price_pred.reshape(-1, 1))))\n",
    "print(f'RMSE for Price Prediction: {rmse:.4f}')\n",
    "\n",
    "# Предсказание на тестовом наборе\n",
    "\"\"\""
   ]
  },
  {
   "cell_type": "code",
   "execution_count": 16,
   "id": "9bd7a456-d0ff-4b1e-8d63-a833c31e2646",
   "metadata": {},
   "outputs": [
    {
     "name": "stderr",
     "output_type": "stream",
     "text": [
      "/tmp/ipykernel_19249/2672647022.py:3: FutureWarning: Setting an item of incompatible dtype is deprecated and will raise an error in a future version of pandas. Value '0.01' has dtype incompatible with float32, please explicitly cast to a compatible dtype first.\n",
      "  submission.loc[submission['__price_predict'] < 0.01, '__price_predict'] = 0.01\n"
     ]
    }
   ],
   "source": [
    "submission['__churn_prob'] = churn_model.predict_proba(submission)[:, 1]\n",
    "submission['__price_predict'] = price_scaler.inverse_transform(price_model.predict(submission.drop(['__churn_prob'], axis = 1)).reshape(-1, 1))\n",
    "submission.loc[submission['__price_predict'] < 0.01, '__price_predict'] = 0.01\n",
    "#submission.loc[submission['__churn_prob'] < 0.01, '__churn_prob'] = 0.01\n",
    "# Создание приоритета\n",
    "#submission['__priority'] = (submission['__churn_prob'] * submission['__price_predict']).rank(ascending=False)"
   ]
  },
  {
   "cell_type": "code",
   "execution_count": 17,
   "id": "2a69e9c0-7529-4368-afdb-88d75b833ded",
   "metadata": {},
   "outputs": [
    {
     "name": "stderr",
     "output_type": "stream",
     "text": [
      "/tmp/ipykernel_19249/3423213778.py:8: FutureWarning: Setting an item of incompatible dtype is deprecated and will raise an error in a future version of pandas. Value '0.01' has dtype incompatible with float32, please explicitly cast to a compatible dtype first.\n",
      "  test.loc[test['__price_predict'] < 0.01, '__price_predict'] = 0.01\n",
      "/tmp/ipykernel_19249/3423213778.py:17: FutureWarning: Setting an item of incompatible dtype is deprecated and will raise an error in a future version of pandas. Value '0.01' has dtype incompatible with float32, please explicitly cast to a compatible dtype first.\n",
      "  train.loc[train['__price_predict'] < 0.01, '__price_predict'] = 0.01\n"
     ]
    }
   ],
   "source": [
    "train = pd.DataFrame()\n",
    "test = pd.DataFrame()\n",
    "\n",
    "test['__churn'] = y_churn_val\n",
    "test['__price_doc'] = price_scaler.inverse_transform(y_price_val.reshape(-1, 1))\n",
    "test['__price_predict'] = price_scaler.inverse_transform(y_price_pred.reshape(-1, 1))\n",
    "test['__churn_prob'] = y_churn_pred\n",
    "test.loc[test['__price_predict'] < 0.01, '__price_predict'] = 0.01\n",
    "#test.loc[test['__churn_prob'] < 0.01, '__churn_prob'] = 0.01\n",
    "#test['__priority'] = (test['__churn_prob'] * test['__price_predict']).rank(ascending=False)\n",
    "\n",
    "\n",
    "train['__churn'] = y_churn_train\n",
    "train['__price_doc'] = price_scaler.inverse_transform(y_price_train.reshape(-1, 1))\n",
    "train['__price_predict'] = price_scaler.inverse_transform(y_price_pred_tr.reshape(-1, 1))\n",
    "train['__churn_prob'] = y_churn_pred_tr\n",
    "train.loc[train['__price_predict'] < 0.01, '__price_predict'] = 0.01\n",
    "#train.loc[train['__churn_prob'] < 0.01, '__churn_prob'] = 0.01\n",
    "#train['__priority'] = (train['__churn_prob'] * train['__price_predict']).rank(ascending=False)"
   ]
  },
  {
   "cell_type": "code",
   "execution_count": null,
   "id": "367de100",
   "metadata": {},
   "outputs": [],
   "source": [
    "def alg(x, min_treshholdm, price_scaler, price_importance):\n",
    "    return - (x['__price_predict'] ** price_importance) * np.log(min_treshholdm + (1 - min_treshholdm)* np.tanh((x['__price_predict']*price_scaler)) + x['__churn_prob'])\n",
    "\n",
    "train['__priority'] = train.apply(lambda x: alg(x , 0.75, 0, 0.1), axis=1)\n",
    "test['__priority'] = test.apply(lambda x: alg(x , 0.75, 0, 0.1), axis=1)\n",
    "submission['__priority'] = submission.apply(lambda x: alg(x , 0.75, 0, 0.1), axis=1)"
   ]
  },
  {
   "cell_type": "code",
   "execution_count": 19,
   "id": "879949dc-0d4e-4bd3-b65a-9812c3d3c81a",
   "metadata": {},
   "outputs": [
    {
     "data": {
      "text/html": [
       "<div>\n",
       "<style scoped>\n",
       "    .dataframe tbody tr th:only-of-type {\n",
       "        vertical-align: middle;\n",
       "    }\n",
       "\n",
       "    .dataframe tbody tr th {\n",
       "        vertical-align: top;\n",
       "    }\n",
       "\n",
       "    .dataframe thead th {\n",
       "        text-align: right;\n",
       "    }\n",
       "</style>\n",
       "<table border=\"1\" class=\"dataframe\">\n",
       "  <thead>\n",
       "    <tr style=\"text-align: right;\">\n",
       "      <th></th>\n",
       "      <th>train</th>\n",
       "      <th>test</th>\n",
       "      <th>desc</th>\n",
       "    </tr>\n",
       "  </thead>\n",
       "  <tbody>\n",
       "    <tr>\n",
       "      <th>total_profit</th>\n",
       "      <td>6618.000</td>\n",
       "      <td>6166.000</td>\n",
       "      <td>Итоговая полученная прибыль (Ключевая метрика)...</td>\n",
       "    </tr>\n",
       "    <tr>\n",
       "      <th>issue_amount</th>\n",
       "      <td>24993.000</td>\n",
       "      <td>21091.000</td>\n",
       "      <td>Итоговая выданная сумма (25 000 максимум), млн...</td>\n",
       "    </tr>\n",
       "    <tr>\n",
       "      <th>bad_loans</th>\n",
       "      <td>5.200</td>\n",
       "      <td>4.300</td>\n",
       "      <td>Доля выданных кредитов с задолженностью, %</td>\n",
       "    </tr>\n",
       "    <tr>\n",
       "      <th>churn_auc</th>\n",
       "      <td>0.838</td>\n",
       "      <td>0.851</td>\n",
       "      <td>Метрика ROC AUC по модели предсказания задолже...</td>\n",
       "    </tr>\n",
       "    <tr>\n",
       "      <th>price_nmsle</th>\n",
       "      <td>-0.078</td>\n",
       "      <td>-0.148</td>\n",
       "      <td>Метрика Negative Mean Squared Logarithmic Erro...</td>\n",
       "    </tr>\n",
       "  </tbody>\n",
       "</table>\n",
       "</div>"
      ],
      "text/plain": [
       "                  train       test  \\\n",
       "total_profit   6618.000   6166.000   \n",
       "issue_amount  24993.000  21091.000   \n",
       "bad_loans         5.200      4.300   \n",
       "churn_auc         0.838      0.851   \n",
       "price_nmsle      -0.078     -0.148   \n",
       "\n",
       "                                                           desc  \n",
       "total_profit  Итоговая полученная прибыль (Ключевая метрика)...  \n",
       "issue_amount  Итоговая выданная сумма (25 000 максимум), млн...  \n",
       "bad_loans            Доля выданных кредитов с задолженностью, %  \n",
       "churn_auc     Метрика ROC AUC по модели предсказания задолже...  \n",
       "price_nmsle   Метрика Negative Mean Squared Logarithmic Erro...  "
      ]
     },
     "execution_count": 19,
     "metadata": {},
     "output_type": "execute_result"
    }
   ],
   "source": [
    "score = pd.concat([\n",
    "    pd.Series(calc_all_metrics(train), name='train'),\n",
    "    pd.Series(calc_all_metrics(test), name='test'),\n",
    "], axis=1)\n",
    "\n",
    "# добавляем колонку с описанием метрики\n",
    "score['desc'] = score.index.map(METRICS_DESC)\n",
    "score"
   ]
  },
  {
   "cell_type": "code",
   "execution_count": 20,
   "id": "d8d9fc21-2795-452a-b72a-7977cf64b691",
   "metadata": {},
   "outputs": [],
   "source": [
    "mysub = submission[['__price_predict', '__churn_prob', '__priority']]\n",
    "mysub.to_csv(SUBMISSION_PATH, index=False)\n",
    "\n",
    "if mysub.shape != (9988, 3):\n",
    "    raise ValueError('Неправильный размер submission файла')"
   ]
  },
  {
   "cell_type": "code",
   "execution_count": 21,
   "id": "808cb9eb",
   "metadata": {},
   "outputs": [
    {
     "data": {
      "text/plain": [
       "__price_predict    7.230572\n",
       "__churn_prob       0.004380\n",
       "__priority         0.343517\n",
       "Name: 1, dtype: float64"
      ]
     },
     "execution_count": 21,
     "metadata": {},
     "output_type": "execute_result"
    }
   ],
   "source": [
    "mysub.iloc[1]"
   ]
  },
  {
   "cell_type": "code",
   "execution_count": 22,
   "id": "2ac81e1b",
   "metadata": {},
   "outputs": [
    {
     "data": {
      "text/html": [
       "\n",
       "        <iframe\n",
       "            width=\"100%\"\n",
       "            height=\"650\"\n",
       "            src=\"http://127.0.0.1:8050/\"\n",
       "            frameborder=\"0\"\n",
       "            allowfullscreen\n",
       "            \n",
       "        ></iframe>\n",
       "        "
      ],
      "text/plain": [
       "<IPython.lib.display.IFrame at 0x74aaf72bdc00>"
      ]
     },
     "metadata": {},
     "output_type": "display_data"
    }
   ],
   "source": [
    "%run ../dashboard/app.py"
   ]
  }
 ],
 "metadata": {
  "kernelspec": {
   "display_name": "Python 3",
   "language": "python",
   "name": "python3"
  },
  "language_info": {
   "codemirror_mode": {
    "name": "ipython",
    "version": 3
   },
   "file_extension": ".py",
   "mimetype": "text/x-python",
   "name": "python",
   "nbconvert_exporter": "python",
   "pygments_lexer": "ipython3",
   "version": "3.10.12"
  }
 },
 "nbformat": 4,
 "nbformat_minor": 5
}
