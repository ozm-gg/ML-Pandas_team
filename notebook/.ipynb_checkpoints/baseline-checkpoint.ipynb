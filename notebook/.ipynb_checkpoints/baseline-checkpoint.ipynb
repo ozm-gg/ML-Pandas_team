{
 "cells": [
  {
   "cell_type": "markdown",
   "id": "775b6833-1b82-4f65-9274-5cafd2d35212",
   "metadata": {},
   "source": [
    "# Install "
   ]
  },
  {
   "cell_type": "code",
   "execution_count": 1,
   "id": "8210e4e3-2ee1-4680-9364-609f0186b43d",
   "metadata": {},
   "outputs": [
    {
     "name": "stdout",
     "output_type": "stream",
     "text": [
      "Defaulting to user installation because normal site-packages is not writeable\n",
      "Requirement already satisfied: numpy in /home/vadosik/.local/lib/python3.10/site-packages (2.0.0)\n",
      "Requirement already satisfied: pandas in /home/vadosik/.local/lib/python3.10/site-packages (2.2.2)\n",
      "Requirement already satisfied: scikit-learn in /home/vadosik/.local/lib/python3.10/site-packages (1.5.2)\n",
      "Requirement already satisfied: matplotlib in /home/vadosik/.local/lib/python3.10/site-packages (3.9.0)\n",
      "Requirement already satisfied: python-dateutil>=2.8.2 in /home/vadosik/.local/lib/python3.10/site-packages (from pandas) (2.9.0.post0)\n",
      "Requirement already satisfied: pytz>=2020.1 in /usr/lib/python3/dist-packages (from pandas) (2022.1)\n",
      "Requirement already satisfied: tzdata>=2022.7 in /home/vadosik/.local/lib/python3.10/site-packages (from pandas) (2024.1)\n",
      "Requirement already satisfied: scipy>=1.6.0 in /home/vadosik/.local/lib/python3.10/site-packages (from scikit-learn) (1.14.1)\n",
      "Requirement already satisfied: joblib>=1.2.0 in /home/vadosik/.local/lib/python3.10/site-packages (from scikit-learn) (1.4.2)\n",
      "Requirement already satisfied: threadpoolctl>=3.1.0 in /home/vadosik/.local/lib/python3.10/site-packages (from scikit-learn) (3.5.0)\n",
      "Requirement already satisfied: contourpy>=1.0.1 in /home/vadosik/.local/lib/python3.10/site-packages (from matplotlib) (1.2.1)\n",
      "Requirement already satisfied: cycler>=0.10 in /home/vadosik/.local/lib/python3.10/site-packages (from matplotlib) (0.12.1)\n",
      "Requirement already satisfied: fonttools>=4.22.0 in /home/vadosik/.local/lib/python3.10/site-packages (from matplotlib) (4.53.0)\n",
      "Requirement already satisfied: kiwisolver>=1.3.1 in /home/vadosik/.local/lib/python3.10/site-packages (from matplotlib) (1.4.5)\n",
      "Requirement already satisfied: packaging>=20.0 in /home/vadosik/.local/lib/python3.10/site-packages (from matplotlib) (24.1)\n",
      "Requirement already satisfied: pillow>=8 in /usr/lib/python3/dist-packages (from matplotlib) (9.0.1)\n",
      "Requirement already satisfied: pyparsing>=2.3.1 in /usr/lib/python3/dist-packages (from matplotlib) (2.4.7)\n",
      "Requirement already satisfied: six>=1.5 in /home/vadosik/.local/lib/python3.10/site-packages (from python-dateutil>=2.8.2->pandas) (1.16.0)\n",
      "\n",
      "\u001b[1m[\u001b[0m\u001b[34;49mnotice\u001b[0m\u001b[1;39;49m]\u001b[0m\u001b[39;49m A new release of pip is available: \u001b[0m\u001b[31;49m24.2\u001b[0m\u001b[39;49m -> \u001b[0m\u001b[32;49m24.3.1\u001b[0m\n",
      "\u001b[1m[\u001b[0m\u001b[34;49mnotice\u001b[0m\u001b[1;39;49m]\u001b[0m\u001b[39;49m To update, run: \u001b[0m\u001b[32;49mpip install --upgrade pip\u001b[0m\n"
     ]
    }
   ],
   "source": [
    "!pip install numpy pandas scikit-learn matplotlib"
   ]
  },
  {
   "cell_type": "markdown",
   "id": "0a97def9-2fa6-4ec9-8279-116444cdfd8b",
   "metadata": {},
   "source": [
    "# calc_all_metrics"
   ]
  },
  {
   "cell_type": "code",
   "execution_count": 2,
   "id": "9262f92f-d092-40f2-8e88-b911d2d53e81",
   "metadata": {
    "tags": []
   },
   "outputs": [],
   "source": [
    "import os\n",
    "\n",
    "from typing import Any, Dict, Tuple\n",
    "\n",
    "import numpy as np\n",
    "import pandas as pd\n",
    "from sklearn.metrics import (\n",
    "    mean_absolute_percentage_error, \n",
    "    mean_squared_log_error, \n",
    "    roc_auc_score\n",
    ")\n",
    "\n",
    "\n",
    "def calc_all_metrics(data: Any) -> Dict[str, float]:\n",
    "    def is_credit_issued(x: Any):\n",
    "        ratio = x['__price_predict'] / x['__price_doc']\n",
    "        if x['__priority'] <= 0:\n",
    "            value = 0.0\n",
    "        elif 0.9 < ratio < 1.0:\n",
    "            value = x['__price_predict']\n",
    "        elif 1.0 <= ratio < 1.1:\n",
    "            value = x['__price_doc']\n",
    "        else:\n",
    "            value = 0.0\n",
    "\n",
    "        return value\n",
    "\n",
    "    def calc_profit(x: pd.DataFrame) -> np.array:\n",
    "        if x['is_credit'] == 0.0:\n",
    "            return 0.0\n",
    "        if x['__churn'] == 1:\n",
    "            return -x['debt'] * 2.0\n",
    "        if x['debt'] < 5:\n",
    "            return x['debt'] * 0.3\n",
    "        if x['debt'] < 9:\n",
    "            return x['debt'] * 0.4\n",
    "        if x['debt'] >= 9:\n",
    "            return x['debt'] * 0.5\n",
    "\n",
    "    max_account = 25e3\n",
    "    \n",
    "    s = (\n",
    "        data[['__priority', '__churn', '__churn_prob', '__price_doc', '__price_predict']]\n",
    "        .sort_values('__priority', ascending=False)\n",
    "        .copy(True)\n",
    "    )\n",
    "\n",
    "    s['debt'] = s.apply(is_credit_issued, axis=1)\n",
    "    s['debt_cum'] = s['debt'].cumsum()\n",
    "    s['is_credit'] = 0\n",
    "    s.loc[(s['debt'] > 0) & (s['debt_cum'] <= max_account), 'is_credit'] = 1\n",
    "    s['profit'] = s.apply(calc_profit, axis=1)\n",
    "\n",
    "    total_profit = round(s['profit'].sum(), 2)\n",
    "    good_credits_count = int(s['is_credit'].sum())\n",
    "    good_credits_debt = int(s[s['is_credit'] == 1]['debt'].sum())\n",
    "    bad_credits_count = s[s['is_credit'] == 1]['__churn'].sum()\n",
    "\n",
    "    return {\n",
    "        'total_profit': int(total_profit),\n",
    "        'issue_amount': good_credits_debt,\n",
    "        'bad_loans': round(bad_credits_count / (good_credits_count + bad_credits_count) * 100.0, 1),\n",
    "        'churn_auc': round(roc_auc_score(y_true=s['__churn'], y_score=s['__churn_prob']), 3),\n",
    "        'price_nmsle': round(\n",
    "            -mean_squared_log_error(y_true=s['__price_doc'], y_pred=s['__price_predict']),\n",
    "            3,\n",
    "        ),\n",
    "    }\n",
    "\n",
    "\n",
    "METRICS_DESC = {\n",
    "    'total_profit': 'Итоговая полученная прибыль (Ключевая метрика), млн руб.',\n",
    "    'issue_amount': 'Итоговая выданная сумма (25 000 максимум), млн руб.',\n",
    "    'bad_loans': 'Доля выданных кредитов с задолженностью, %',\n",
    "    'churn_auc': 'Метрика ROC AUC по модели предсказания задолженности',\n",
    "    'price_nmsle': 'Метрика Negative Mean Squared Logarithmic Error по модели предсказания стоимости',\n",
    "}"
   ]
  },
  {
   "cell_type": "markdown",
   "id": "2aee06ff-b225-4af9-8495-4fabd2f579aa",
   "metadata": {},
   "source": [
    "# Constants"
   ]
  },
  {
   "cell_type": "code",
   "execution_count": 3,
   "id": "7374ded9-af51-4fac-ae1a-4550ed34aef1",
   "metadata": {
    "tags": []
   },
   "outputs": [
    {
     "data": {
      "text/plain": [
       "'../data/submissions/ml_pandas_2024-12-01_0359.csv'"
      ]
     },
     "execution_count": 3,
     "metadata": {},
     "output_type": "execute_result"
    }
   ],
   "source": [
    "import datetime\n",
    "\n",
    "RANDOM_STATE = 42\n",
    "\n",
    "now = datetime.datetime.now().strftime('%Y-%m-%d_%H%M')\n",
    "SUBMISSION_PATH = f'../data/submissions/ml_pandas_{now}.csv'\n",
    "SUBMISSION_PATH"
   ]
  },
  {
   "cell_type": "markdown",
   "id": "a151e5de-3095-4458-a18e-043000c02fe2",
   "metadata": {},
   "source": [
    "# Read datasets"
   ]
  },
  {
   "cell_type": "code",
   "execution_count": 11,
   "id": "f8613b36-7aa0-4522-a734-4cb888372c28",
   "metadata": {
    "tags": []
   },
   "outputs": [
    {
     "ename": "FileNotFoundError",
     "evalue": "[Errno 2] No such file or directory: '../data/train.csv'",
     "output_type": "error",
     "traceback": [
      "\u001b[0;31m---------------------------------------------------------------------------\u001b[0m",
      "\u001b[0;31mFileNotFoundError\u001b[0m                         Traceback (most recent call last)",
      "Cell \u001b[0;32mIn[11], line 1\u001b[0m\n\u001b[0;32m----> 1\u001b[0m data \u001b[38;5;241m=\u001b[39m \u001b[43mpd\u001b[49m\u001b[38;5;241;43m.\u001b[39;49m\u001b[43mread_csv\u001b[49m\u001b[43m(\u001b[49m\u001b[38;5;124;43m'\u001b[39;49m\u001b[38;5;124;43m../data/train.csv\u001b[39;49m\u001b[38;5;124;43m'\u001b[39;49m\u001b[43m)\u001b[49m\n\u001b[1;32m      2\u001b[0m submission \u001b[38;5;241m=\u001b[39m pd\u001b[38;5;241m.\u001b[39mread_csv(\u001b[38;5;124m'\u001b[39m\u001b[38;5;124m../data/test.csv\u001b[39m\u001b[38;5;124m'\u001b[39m)\n\u001b[1;32m      3\u001b[0m data\u001b[38;5;241m.\u001b[39mshape, submission\u001b[38;5;241m.\u001b[39mshape\n",
      "File \u001b[0;32m~/.local/lib/python3.10/site-packages/pandas/io/parsers/readers.py:1026\u001b[0m, in \u001b[0;36mread_csv\u001b[0;34m(filepath_or_buffer, sep, delimiter, header, names, index_col, usecols, dtype, engine, converters, true_values, false_values, skipinitialspace, skiprows, skipfooter, nrows, na_values, keep_default_na, na_filter, verbose, skip_blank_lines, parse_dates, infer_datetime_format, keep_date_col, date_parser, date_format, dayfirst, cache_dates, iterator, chunksize, compression, thousands, decimal, lineterminator, quotechar, quoting, doublequote, escapechar, comment, encoding, encoding_errors, dialect, on_bad_lines, delim_whitespace, low_memory, memory_map, float_precision, storage_options, dtype_backend)\u001b[0m\n\u001b[1;32m   1013\u001b[0m kwds_defaults \u001b[38;5;241m=\u001b[39m _refine_defaults_read(\n\u001b[1;32m   1014\u001b[0m     dialect,\n\u001b[1;32m   1015\u001b[0m     delimiter,\n\u001b[0;32m   (...)\u001b[0m\n\u001b[1;32m   1022\u001b[0m     dtype_backend\u001b[38;5;241m=\u001b[39mdtype_backend,\n\u001b[1;32m   1023\u001b[0m )\n\u001b[1;32m   1024\u001b[0m kwds\u001b[38;5;241m.\u001b[39mupdate(kwds_defaults)\n\u001b[0;32m-> 1026\u001b[0m \u001b[38;5;28;01mreturn\u001b[39;00m \u001b[43m_read\u001b[49m\u001b[43m(\u001b[49m\u001b[43mfilepath_or_buffer\u001b[49m\u001b[43m,\u001b[49m\u001b[43m \u001b[49m\u001b[43mkwds\u001b[49m\u001b[43m)\u001b[49m\n",
      "File \u001b[0;32m~/.local/lib/python3.10/site-packages/pandas/io/parsers/readers.py:620\u001b[0m, in \u001b[0;36m_read\u001b[0;34m(filepath_or_buffer, kwds)\u001b[0m\n\u001b[1;32m    617\u001b[0m _validate_names(kwds\u001b[38;5;241m.\u001b[39mget(\u001b[38;5;124m\"\u001b[39m\u001b[38;5;124mnames\u001b[39m\u001b[38;5;124m\"\u001b[39m, \u001b[38;5;28;01mNone\u001b[39;00m))\n\u001b[1;32m    619\u001b[0m \u001b[38;5;66;03m# Create the parser.\u001b[39;00m\n\u001b[0;32m--> 620\u001b[0m parser \u001b[38;5;241m=\u001b[39m \u001b[43mTextFileReader\u001b[49m\u001b[43m(\u001b[49m\u001b[43mfilepath_or_buffer\u001b[49m\u001b[43m,\u001b[49m\u001b[43m \u001b[49m\u001b[38;5;241;43m*\u001b[39;49m\u001b[38;5;241;43m*\u001b[39;49m\u001b[43mkwds\u001b[49m\u001b[43m)\u001b[49m\n\u001b[1;32m    622\u001b[0m \u001b[38;5;28;01mif\u001b[39;00m chunksize \u001b[38;5;129;01mor\u001b[39;00m iterator:\n\u001b[1;32m    623\u001b[0m     \u001b[38;5;28;01mreturn\u001b[39;00m parser\n",
      "File \u001b[0;32m~/.local/lib/python3.10/site-packages/pandas/io/parsers/readers.py:1620\u001b[0m, in \u001b[0;36mTextFileReader.__init__\u001b[0;34m(self, f, engine, **kwds)\u001b[0m\n\u001b[1;32m   1617\u001b[0m     \u001b[38;5;28mself\u001b[39m\u001b[38;5;241m.\u001b[39moptions[\u001b[38;5;124m\"\u001b[39m\u001b[38;5;124mhas_index_names\u001b[39m\u001b[38;5;124m\"\u001b[39m] \u001b[38;5;241m=\u001b[39m kwds[\u001b[38;5;124m\"\u001b[39m\u001b[38;5;124mhas_index_names\u001b[39m\u001b[38;5;124m\"\u001b[39m]\n\u001b[1;32m   1619\u001b[0m \u001b[38;5;28mself\u001b[39m\u001b[38;5;241m.\u001b[39mhandles: IOHandles \u001b[38;5;241m|\u001b[39m \u001b[38;5;28;01mNone\u001b[39;00m \u001b[38;5;241m=\u001b[39m \u001b[38;5;28;01mNone\u001b[39;00m\n\u001b[0;32m-> 1620\u001b[0m \u001b[38;5;28mself\u001b[39m\u001b[38;5;241m.\u001b[39m_engine \u001b[38;5;241m=\u001b[39m \u001b[38;5;28;43mself\u001b[39;49m\u001b[38;5;241;43m.\u001b[39;49m\u001b[43m_make_engine\u001b[49m\u001b[43m(\u001b[49m\u001b[43mf\u001b[49m\u001b[43m,\u001b[49m\u001b[43m \u001b[49m\u001b[38;5;28;43mself\u001b[39;49m\u001b[38;5;241;43m.\u001b[39;49m\u001b[43mengine\u001b[49m\u001b[43m)\u001b[49m\n",
      "File \u001b[0;32m~/.local/lib/python3.10/site-packages/pandas/io/parsers/readers.py:1880\u001b[0m, in \u001b[0;36mTextFileReader._make_engine\u001b[0;34m(self, f, engine)\u001b[0m\n\u001b[1;32m   1878\u001b[0m     \u001b[38;5;28;01mif\u001b[39;00m \u001b[38;5;124m\"\u001b[39m\u001b[38;5;124mb\u001b[39m\u001b[38;5;124m\"\u001b[39m \u001b[38;5;129;01mnot\u001b[39;00m \u001b[38;5;129;01min\u001b[39;00m mode:\n\u001b[1;32m   1879\u001b[0m         mode \u001b[38;5;241m+\u001b[39m\u001b[38;5;241m=\u001b[39m \u001b[38;5;124m\"\u001b[39m\u001b[38;5;124mb\u001b[39m\u001b[38;5;124m\"\u001b[39m\n\u001b[0;32m-> 1880\u001b[0m \u001b[38;5;28mself\u001b[39m\u001b[38;5;241m.\u001b[39mhandles \u001b[38;5;241m=\u001b[39m \u001b[43mget_handle\u001b[49m\u001b[43m(\u001b[49m\n\u001b[1;32m   1881\u001b[0m \u001b[43m    \u001b[49m\u001b[43mf\u001b[49m\u001b[43m,\u001b[49m\n\u001b[1;32m   1882\u001b[0m \u001b[43m    \u001b[49m\u001b[43mmode\u001b[49m\u001b[43m,\u001b[49m\n\u001b[1;32m   1883\u001b[0m \u001b[43m    \u001b[49m\u001b[43mencoding\u001b[49m\u001b[38;5;241;43m=\u001b[39;49m\u001b[38;5;28;43mself\u001b[39;49m\u001b[38;5;241;43m.\u001b[39;49m\u001b[43moptions\u001b[49m\u001b[38;5;241;43m.\u001b[39;49m\u001b[43mget\u001b[49m\u001b[43m(\u001b[49m\u001b[38;5;124;43m\"\u001b[39;49m\u001b[38;5;124;43mencoding\u001b[39;49m\u001b[38;5;124;43m\"\u001b[39;49m\u001b[43m,\u001b[49m\u001b[43m \u001b[49m\u001b[38;5;28;43;01mNone\u001b[39;49;00m\u001b[43m)\u001b[49m\u001b[43m,\u001b[49m\n\u001b[1;32m   1884\u001b[0m \u001b[43m    \u001b[49m\u001b[43mcompression\u001b[49m\u001b[38;5;241;43m=\u001b[39;49m\u001b[38;5;28;43mself\u001b[39;49m\u001b[38;5;241;43m.\u001b[39;49m\u001b[43moptions\u001b[49m\u001b[38;5;241;43m.\u001b[39;49m\u001b[43mget\u001b[49m\u001b[43m(\u001b[49m\u001b[38;5;124;43m\"\u001b[39;49m\u001b[38;5;124;43mcompression\u001b[39;49m\u001b[38;5;124;43m\"\u001b[39;49m\u001b[43m,\u001b[49m\u001b[43m \u001b[49m\u001b[38;5;28;43;01mNone\u001b[39;49;00m\u001b[43m)\u001b[49m\u001b[43m,\u001b[49m\n\u001b[1;32m   1885\u001b[0m \u001b[43m    \u001b[49m\u001b[43mmemory_map\u001b[49m\u001b[38;5;241;43m=\u001b[39;49m\u001b[38;5;28;43mself\u001b[39;49m\u001b[38;5;241;43m.\u001b[39;49m\u001b[43moptions\u001b[49m\u001b[38;5;241;43m.\u001b[39;49m\u001b[43mget\u001b[49m\u001b[43m(\u001b[49m\u001b[38;5;124;43m\"\u001b[39;49m\u001b[38;5;124;43mmemory_map\u001b[39;49m\u001b[38;5;124;43m\"\u001b[39;49m\u001b[43m,\u001b[49m\u001b[43m \u001b[49m\u001b[38;5;28;43;01mFalse\u001b[39;49;00m\u001b[43m)\u001b[49m\u001b[43m,\u001b[49m\n\u001b[1;32m   1886\u001b[0m \u001b[43m    \u001b[49m\u001b[43mis_text\u001b[49m\u001b[38;5;241;43m=\u001b[39;49m\u001b[43mis_text\u001b[49m\u001b[43m,\u001b[49m\n\u001b[1;32m   1887\u001b[0m \u001b[43m    \u001b[49m\u001b[43merrors\u001b[49m\u001b[38;5;241;43m=\u001b[39;49m\u001b[38;5;28;43mself\u001b[39;49m\u001b[38;5;241;43m.\u001b[39;49m\u001b[43moptions\u001b[49m\u001b[38;5;241;43m.\u001b[39;49m\u001b[43mget\u001b[49m\u001b[43m(\u001b[49m\u001b[38;5;124;43m\"\u001b[39;49m\u001b[38;5;124;43mencoding_errors\u001b[39;49m\u001b[38;5;124;43m\"\u001b[39;49m\u001b[43m,\u001b[49m\u001b[43m \u001b[49m\u001b[38;5;124;43m\"\u001b[39;49m\u001b[38;5;124;43mstrict\u001b[39;49m\u001b[38;5;124;43m\"\u001b[39;49m\u001b[43m)\u001b[49m\u001b[43m,\u001b[49m\n\u001b[1;32m   1888\u001b[0m \u001b[43m    \u001b[49m\u001b[43mstorage_options\u001b[49m\u001b[38;5;241;43m=\u001b[39;49m\u001b[38;5;28;43mself\u001b[39;49m\u001b[38;5;241;43m.\u001b[39;49m\u001b[43moptions\u001b[49m\u001b[38;5;241;43m.\u001b[39;49m\u001b[43mget\u001b[49m\u001b[43m(\u001b[49m\u001b[38;5;124;43m\"\u001b[39;49m\u001b[38;5;124;43mstorage_options\u001b[39;49m\u001b[38;5;124;43m\"\u001b[39;49m\u001b[43m,\u001b[49m\u001b[43m \u001b[49m\u001b[38;5;28;43;01mNone\u001b[39;49;00m\u001b[43m)\u001b[49m\u001b[43m,\u001b[49m\n\u001b[1;32m   1889\u001b[0m \u001b[43m\u001b[49m\u001b[43m)\u001b[49m\n\u001b[1;32m   1890\u001b[0m \u001b[38;5;28;01massert\u001b[39;00m \u001b[38;5;28mself\u001b[39m\u001b[38;5;241m.\u001b[39mhandles \u001b[38;5;129;01mis\u001b[39;00m \u001b[38;5;129;01mnot\u001b[39;00m \u001b[38;5;28;01mNone\u001b[39;00m\n\u001b[1;32m   1891\u001b[0m f \u001b[38;5;241m=\u001b[39m \u001b[38;5;28mself\u001b[39m\u001b[38;5;241m.\u001b[39mhandles\u001b[38;5;241m.\u001b[39mhandle\n",
      "File \u001b[0;32m~/.local/lib/python3.10/site-packages/pandas/io/common.py:873\u001b[0m, in \u001b[0;36mget_handle\u001b[0;34m(path_or_buf, mode, encoding, compression, memory_map, is_text, errors, storage_options)\u001b[0m\n\u001b[1;32m    868\u001b[0m \u001b[38;5;28;01melif\u001b[39;00m \u001b[38;5;28misinstance\u001b[39m(handle, \u001b[38;5;28mstr\u001b[39m):\n\u001b[1;32m    869\u001b[0m     \u001b[38;5;66;03m# Check whether the filename is to be opened in binary mode.\u001b[39;00m\n\u001b[1;32m    870\u001b[0m     \u001b[38;5;66;03m# Binary mode does not support 'encoding' and 'newline'.\u001b[39;00m\n\u001b[1;32m    871\u001b[0m     \u001b[38;5;28;01mif\u001b[39;00m ioargs\u001b[38;5;241m.\u001b[39mencoding \u001b[38;5;129;01mand\u001b[39;00m \u001b[38;5;124m\"\u001b[39m\u001b[38;5;124mb\u001b[39m\u001b[38;5;124m\"\u001b[39m \u001b[38;5;129;01mnot\u001b[39;00m \u001b[38;5;129;01min\u001b[39;00m ioargs\u001b[38;5;241m.\u001b[39mmode:\n\u001b[1;32m    872\u001b[0m         \u001b[38;5;66;03m# Encoding\u001b[39;00m\n\u001b[0;32m--> 873\u001b[0m         handle \u001b[38;5;241m=\u001b[39m \u001b[38;5;28;43mopen\u001b[39;49m\u001b[43m(\u001b[49m\n\u001b[1;32m    874\u001b[0m \u001b[43m            \u001b[49m\u001b[43mhandle\u001b[49m\u001b[43m,\u001b[49m\n\u001b[1;32m    875\u001b[0m \u001b[43m            \u001b[49m\u001b[43mioargs\u001b[49m\u001b[38;5;241;43m.\u001b[39;49m\u001b[43mmode\u001b[49m\u001b[43m,\u001b[49m\n\u001b[1;32m    876\u001b[0m \u001b[43m            \u001b[49m\u001b[43mencoding\u001b[49m\u001b[38;5;241;43m=\u001b[39;49m\u001b[43mioargs\u001b[49m\u001b[38;5;241;43m.\u001b[39;49m\u001b[43mencoding\u001b[49m\u001b[43m,\u001b[49m\n\u001b[1;32m    877\u001b[0m \u001b[43m            \u001b[49m\u001b[43merrors\u001b[49m\u001b[38;5;241;43m=\u001b[39;49m\u001b[43merrors\u001b[49m\u001b[43m,\u001b[49m\n\u001b[1;32m    878\u001b[0m \u001b[43m            \u001b[49m\u001b[43mnewline\u001b[49m\u001b[38;5;241;43m=\u001b[39;49m\u001b[38;5;124;43m\"\u001b[39;49m\u001b[38;5;124;43m\"\u001b[39;49m\u001b[43m,\u001b[49m\n\u001b[1;32m    879\u001b[0m \u001b[43m        \u001b[49m\u001b[43m)\u001b[49m\n\u001b[1;32m    880\u001b[0m     \u001b[38;5;28;01melse\u001b[39;00m:\n\u001b[1;32m    881\u001b[0m         \u001b[38;5;66;03m# Binary mode\u001b[39;00m\n\u001b[1;32m    882\u001b[0m         handle \u001b[38;5;241m=\u001b[39m \u001b[38;5;28mopen\u001b[39m(handle, ioargs\u001b[38;5;241m.\u001b[39mmode)\n",
      "\u001b[0;31mFileNotFoundError\u001b[0m: [Errno 2] No such file or directory: '../data/train.csv'"
     ]
    }
   ],
   "source": [
    "data = pd.read_csv('../data/train.csv')\n",
    "submission = pd.read_csv('../data/test.csv')\n",
    "data.shape, submission.shape"
   ]
  },
  {
   "cell_type": "markdown",
   "id": "fd214f0a-2c92-49ca-88be-9dacdaaa91bc",
   "metadata": {},
   "source": [
    "# Prepare features and dataset"
   ]
  },
  {
   "cell_type": "code",
   "execution_count": 10,
   "id": "3fab56f7-72c5-4f9e-a970-e39f0139d40f",
   "metadata": {
    "tags": []
   },
   "outputs": [
    {
     "ename": "NameError",
     "evalue": "name 'data' is not defined",
     "output_type": "error",
     "traceback": [
      "\u001b[0;31m---------------------------------------------------------------------------\u001b[0m",
      "\u001b[0;31mNameError\u001b[0m                                 Traceback (most recent call last)",
      "Cell \u001b[0;32mIn[10], line 1\u001b[0m\n\u001b[0;32m----> 1\u001b[0m targets_cols \u001b[38;5;241m=\u001b[39m \u001b[43mdata\u001b[49m\u001b[38;5;241m.\u001b[39mcolumns[data\u001b[38;5;241m.\u001b[39mcolumns\u001b[38;5;241m.\u001b[39mstr\u001b[38;5;241m.\u001b[39mstartswith(\u001b[38;5;124m'\u001b[39m\u001b[38;5;124m__\u001b[39m\u001b[38;5;124m'\u001b[39m)]\u001b[38;5;241m.\u001b[39mtolist()\n\u001b[1;32m      2\u001b[0m remove_features \u001b[38;5;241m=\u001b[39m [\u001b[38;5;124m\"\u001b[39m\u001b[38;5;124mtimestamp\u001b[39m\u001b[38;5;124m\"\u001b[39m, \u001b[38;5;124m\"\u001b[39m\u001b[38;5;124mstate\u001b[39m\u001b[38;5;124m\"\u001b[39m, \u001b[38;5;124m\"\u001b[39m\u001b[38;5;124mbuild_year\u001b[39m\u001b[38;5;124m\"\u001b[39m, \u001b[38;5;124m\"\u001b[39m\u001b[38;5;124mecology\u001b[39m\u001b[38;5;124m\"\u001b[39m]\n\u001b[1;32m      3\u001b[0m targets_cols\n",
      "\u001b[0;31mNameError\u001b[0m: name 'data' is not defined"
     ]
    }
   ],
   "source": [
    "targets_cols = data.columns[data.columns.str.startswith('__')].tolist()\n",
    "remove_features = [\"timestamp\", \"state\", \"build_year\", \"ecology\"]\n",
    "targets_cols"
   ]
  },
  {
   "cell_type": "code",
   "execution_count": 23,
   "id": "c6689fdc-c7ab-446d-93e6-2b2befc83f6f",
   "metadata": {
    "tags": []
   },
   "outputs": [
    {
     "data": {
      "text/plain": [
       "55"
      ]
     },
     "execution_count": 23,
     "metadata": {},
     "output_type": "execute_result"
    }
   ],
   "source": [
    "continuous_features = list(set(data.columns) - set(targets_cols)\n",
    "                           - set(remove_features))\n",
    "len(continuous_features)"
   ]
  },
  {
   "cell_type": "code",
   "execution_count": 24,
   "id": "860089d8-2b38-4f5d-8d1d-0df00e6fb88e",
   "metadata": {},
   "outputs": [
    {
     "data": {
      "text/html": [
       "<div>\n",
       "<style scoped>\n",
       "    .dataframe tbody tr th:only-of-type {\n",
       "        vertical-align: middle;\n",
       "    }\n",
       "\n",
       "    .dataframe tbody tr th {\n",
       "        vertical-align: top;\n",
       "    }\n",
       "\n",
       "    .dataframe thead th {\n",
       "        text-align: right;\n",
       "    }\n",
       "</style>\n",
       "<table border=\"1\" class=\"dataframe\">\n",
       "  <thead>\n",
       "    <tr style=\"text-align: right;\">\n",
       "      <th></th>\n",
       "      <th>__churn</th>\n",
       "      <th>__price_doc</th>\n",
       "    </tr>\n",
       "  </thead>\n",
       "  <tbody>\n",
       "    <tr>\n",
       "      <th>0</th>\n",
       "      <td>0</td>\n",
       "      <td>5.850000</td>\n",
       "    </tr>\n",
       "    <tr>\n",
       "      <th>1</th>\n",
       "      <td>0</td>\n",
       "      <td>6.000000</td>\n",
       "    </tr>\n",
       "    <tr>\n",
       "      <th>2</th>\n",
       "      <td>0</td>\n",
       "      <td>5.700000</td>\n",
       "    </tr>\n",
       "    <tr>\n",
       "      <th>3</th>\n",
       "      <td>0</td>\n",
       "      <td>13.100000</td>\n",
       "    </tr>\n",
       "    <tr>\n",
       "      <th>4</th>\n",
       "      <td>0</td>\n",
       "      <td>16.331452</td>\n",
       "    </tr>\n",
       "    <tr>\n",
       "      <th>...</th>\n",
       "      <td>...</td>\n",
       "      <td>...</td>\n",
       "    </tr>\n",
       "    <tr>\n",
       "      <th>20478</th>\n",
       "      <td>0</td>\n",
       "      <td>7.200000</td>\n",
       "    </tr>\n",
       "    <tr>\n",
       "      <th>20479</th>\n",
       "      <td>0</td>\n",
       "      <td>4.027052</td>\n",
       "    </tr>\n",
       "    <tr>\n",
       "      <th>20480</th>\n",
       "      <td>0</td>\n",
       "      <td>9.650000</td>\n",
       "    </tr>\n",
       "    <tr>\n",
       "      <th>20481</th>\n",
       "      <td>1</td>\n",
       "      <td>3.500000</td>\n",
       "    </tr>\n",
       "    <tr>\n",
       "      <th>20482</th>\n",
       "      <td>1</td>\n",
       "      <td>9.800000</td>\n",
       "    </tr>\n",
       "  </tbody>\n",
       "</table>\n",
       "<p>20483 rows × 2 columns</p>\n",
       "</div>"
      ],
      "text/plain": [
       "       __churn  __price_doc\n",
       "0            0     5.850000\n",
       "1            0     6.000000\n",
       "2            0     5.700000\n",
       "3            0    13.100000\n",
       "4            0    16.331452\n",
       "...        ...          ...\n",
       "20478        0     7.200000\n",
       "20479        0     4.027052\n",
       "20480        0     9.650000\n",
       "20481        1     3.500000\n",
       "20482        1     9.800000\n",
       "\n",
       "[20483 rows x 2 columns]"
      ]
     },
     "execution_count": 24,
     "metadata": {},
     "output_type": "execute_result"
    }
   ],
   "source": [
    "targets = data[targets_cols]\n",
    "targets"
   ]
  },
  {
   "cell_type": "code",
   "execution_count": 25,
   "id": "7f3e80c7-1b50-4bcf-8fb7-8631c1a82396",
   "metadata": {},
   "outputs": [],
   "source": [
    "data = data[continuous_features]\n",
    "submission = submission[continuous_features]\n",
    "\n",
    "combined_df = pd.concat([data, submission], ignore_index=True)"
   ]
  },
  {
   "cell_type": "code",
   "execution_count": 26,
   "id": "ef003a44-212c-4df2-97ea-da1f7cf66a83",
   "metadata": {},
   "outputs": [],
   "source": [
    "from sklearn.preprocessing import OrdinalEncoder\n"
   ]
  },
  {
   "cell_type": "code",
   "execution_count": 27,
   "id": "53dc1a90-8425-493b-8857-0033a50b066e",
   "metadata": {},
   "outputs": [],
   "source": [
    "client_features = [  \n",
    "    'marital_status',\n",
    "    'total_revolving_bal',\n",
    "    'contacts_count_12_mon',\n",
    "    'product_type',\n",
    "    'credit_limit',\n",
    "    'total_trans_ct',\n",
    "    'card_category',\n",
    "    'avg_utilization_ratio',\n",
    "    'income_category',\n",
    "    'customer_age',\n",
    "    'total_ct_chng_q4_q1',\n",
    "    'total_amt_chng_q4_q1',\n",
    "    'gender',\n",
    "    'total_trans_amt',\n",
    "    'months_inactive_12_mon',\n",
    "    'education_level',\n",
    "    'dependent_count',\n",
    "    'avg_open_to_buy',\n",
    "    'total_relationship_count',\n",
    "     '0_17_all',\n",
    "    'months_on_book',\n",
    "]\n",
    "apart_features = [\n",
    "    'max_floor',\n",
    "    'big_market_raion',\n",
    "    'market_count_1500',\n",
    "    'leisure_count_3000',\n",
    "    'water_1line',\n",
    "    'railroad_station_walk_km',\n",
    "    'culture_objects_top_25',\n",
    "    'trc_count_2000',\n",
    "    'build_count_wood',\n",
    "    'leisure_count_5000',\n",
    "    'life_sq',\n",
    "    'cafe_count_1000_price_1000',\n",
    "    'mkad_km',\n",
    "    'school_education_centers_top_20_raion',\n",
    "    'big_road1_1line',\n",
    "    'public_transport_station_min_walk',\n",
    "    'thermal_power_plant_raion',\n",
    "    'radiation_raion',\n",
    "    'detention_facility_km',\n",
    "    'sport_count_2000',\n",
    "    'cafe_sum_1000_min_price_avg',\n",
    "    'metro_km_walk',\n",
    "    'office_sqm_5000',\n",
    "    'oil_chemistry_raion',\n",
    "    'nuclear_reactor_raion',\n",
    "    'cafe_sum_1500_min_price_avg',\n",
    "    'railroad_1line',\n",
    "    'floor',\n",
    "    'num_room',\n",
    "    'incineration_raion',\n",
    "    'full_sq',\n",
    "    'detention_facility_raion',\n",
    "    'build_count_mix',\n",
    "    'railroad_terminal_raion',\n",
    "]"
   ]
  },
  {
   "cell_type": "code",
   "execution_count": null,
   "id": "2b744709-73e6-4e2d-a59c-ecf89f4c1ef0",
   "metadata": {},
   "outputs": [],
   "source": []
  },
  {
   "cell_type": "code",
   "execution_count": 30,
   "id": "072ee0da-b09a-44cf-bcba-bbd48061546e",
   "metadata": {},
   "outputs": [],
   "source": [
    "def data_preprocces(data_to_proc):\n",
    "    for column in data_to_proc.columns:\n",
    "        data_to_proc[f'{column}_is_na'] = data_to_proc[column].isna().astype(int)\n",
    "   \n",
    "    median_max_floor = data_to_proc['max_floor'].median()\n",
    "\n",
    "    data_to_proc['max_floor'] = data_to_proc.apply(\n",
    "        lambda row: median_max_floor if pd.isna(row['max_floor']) and median_max_floor > row['floor'] else row['max_floor'],\n",
    "        axis=1\n",
    "    )\n",
    "    data_to_proc['max_floor'] = data_to_proc['max_floor'].fillna(data_to_proc['floor'])\n",
    "    \n",
    "    median_life_sq = data_to_proc['life_sq'].median()\n",
    "    mean_full_sq = data_to_proc['full_sq'].mean()\n",
    "    data_to_proc['life_sq'] = data_to_proc['life_sq'].fillna(data_to_proc['full_sq'] * median_life_sq / mean_full_sq)\n",
    "\n",
    "    median_num_room = data_to_proc['num_room'].median()\n",
    "    mean_life_sq = data_to_proc['life_sq'].mean()\n",
    "    data_to_proc['num_room'] = data_to_proc['num_room'].fillna(data['life_sq'] * median_num_room / mean_life_sq)\n",
    "\n",
    "    \"\"\"\n",
    "    max_value = data_to_proc[\"cafe_count_1000_price_1000\"].max()\n",
    "    less30_median = data_to_proc[data_to_proc[\"cafe_count_1000_price_1000\"] < max_value * 0.3][\"cafe_sum_1000_min_price_avg\"].median()\n",
    "    from30to70_median = data_to_proc[\n",
    "        (data[\"cafe_count_1000_price_1000\"] > max_value * 0.3) &\n",
    "        (data[\"cafe_count_1000_price_1000\"] < max_value * 0.7)\n",
    "    ][\"cafe_sum_1000_min_price_avg\"].median()\n",
    "    more70_median = data_to_proc[data_to_proc[\"cafe_count_1000_price_1000\"] > max_value * 0.7][\"cafe_sum_1000_min_price_avg\"].median()\n",
    "    \n",
    "    mask_less30 = data_to_proc[\"cafe_count_1000_price_1000\"] < max_value * 0.3\n",
    "    mask_from30to70 = (data_to_proc[\"cafe_count_1000_price_1000\"] > max_value * 0.3) & (data_to_proc[\"cafe_count_1000_price_1000\"] < max_value * 0.7)\n",
    "    mask_more70 = data_to_proc[\"cafe_count_1000_price_1000\"] > max_value * 0.7\n",
    "    \n",
    "    data_to_proc.loc[mask_less30, 'cafe_sum_1000_min_price_avg'] = data_to_proc.loc[mask_less30, 'cafe_sum_1000_min_price_avg'].fillna(less30_median)\n",
    "    data_to_proc.loc[mask_from30to70, 'cafe_sum_1000_min_price_avg'] = data_to_proc.loc[mask_from30to70, 'cafe_sum_1000_min_price_avg'].fillna(from30to70_median)\n",
    "    data_to_proc.loc[mask_more70, 'cafe_sum_1000_min_price_avg'] = data_to_proc.loc[mask_more70, 'cafe_sum_1000_min_price_avg'].fillna(more70_median)\n",
    "\n",
    "    less30_median = data_to_proc[data_to_proc[\"cafe_count_1000_price_1000\"] < max_value * 0.3][\"cafe_sum_1500_min_price_avg\"].median()\n",
    "    from30to70_median = data_to_proc[\n",
    "        (data_to_proc[\"cafe_count_1000_price_1000\"] > max_value * 0.3) &\n",
    "        (data_to_proc[\"cafe_count_1000_price_1000\"] < max_value * 0.7)\n",
    "    ][\"cafe_sum_1500_min_price_avg\"].median()\n",
    "    more70_median = data_to_proc[data_to_proc[\"cafe_count_1000_price_1000\"] > max_value * 0.7][\"cafe_sum_1500_min_price_avg\"].median()\n",
    "    \n",
    "    # Заполняем NaN в 'cafe_sum_1000_min_price_avg'\n",
    "    data_to_proc.loc[mask_less30, 'cafe_sum_1500_min_price_avg'] = data_to_proc.loc[mask_less30, 'cafe_sum_1500_min_price_avg'].fillna(less30_median)\n",
    "    data_to_proc.loc[mask_from30to70, 'cafe_sum_1500_min_price_avg'] = data_to_proc.loc[mask_from30to70, 'cafe_sum_1500_min_price_avg'].fillna(from30to70_median)\n",
    "    data_to_proc.loc[mask_more70, 'cafe_sum_1500_min_price_avg'] = data_to_proc.loc[mask_more70, 'cafe_sum_1500_min_price_avg'].fillna(more70_median)\n",
    "    \"\"\"\n",
    "    for column in data_to_proc.select_dtypes(exclude=['object']).columns:\n",
    "        data_to_proc[column] = data_to_proc[column].fillna(data_to_proc[column].median())\n",
    "\n",
    "    data_to_proc_client = data_to_proc[list(set(data_to_proc.columns) - set(apart_features))]\n",
    "    data_to_proc_apart = data_to_proc[list(set(data_to_proc.columns) - set(client_features))]\n",
    "\n",
    "    categories = [['Blue', 'Silver', 'Gold']]\n",
    "    encoder = OrdinalEncoder(categories=categories)\n",
    "    data_to_proc_client['card_category'] = encoder.fit_transform(data_to_proc_client[['card_category']])\n",
    "    \n",
    "    categories = [['Unknown','Less than $40K' , '$40K - $60K', '$60K - $80K', '$80K - $120K' ,\n",
    "     '$120K +']]\n",
    "    encoder = OrdinalEncoder(categories=categories)\n",
    "    data_to_proc_client['income_category'] = encoder.fit_transform(data_to_proc_client[['income_category']])\n",
    "    \n",
    "    return pd.get_dummies(data_to_proc_client, drop_first=True), pd.get_dummies(data_to_proc_apart, drop_first=True)"
   ]
  },
  {
   "cell_type": "code",
   "execution_count": 31,
   "id": "5a3a9622-3239-4fad-93d1-8bbf80e36fd4",
   "metadata": {},
   "outputs": [
    {
     "name": "stderr",
     "output_type": "stream",
     "text": [
      "C:\\Users\\dmits\\AppData\\Local\\Temp\\ipykernel_26896\\4135883660.py:58: SettingWithCopyWarning: \n",
      "A value is trying to be set on a copy of a slice from a DataFrame.\n",
      "Try using .loc[row_indexer,col_indexer] = value instead\n",
      "\n",
      "See the caveats in the documentation: https://pandas.pydata.org/pandas-docs/stable/user_guide/indexing.html#returning-a-view-versus-a-copy\n",
      "  data_to_proc_client['card_category'] = encoder.fit_transform(data_to_proc_client[['card_category']])\n",
      "C:\\Users\\dmits\\AppData\\Local\\Temp\\ipykernel_26896\\4135883660.py:63: SettingWithCopyWarning: \n",
      "A value is trying to be set on a copy of a slice from a DataFrame.\n",
      "Try using .loc[row_indexer,col_indexer] = value instead\n",
      "\n",
      "See the caveats in the documentation: https://pandas.pydata.org/pandas-docs/stable/user_guide/indexing.html#returning-a-view-versus-a-copy\n",
      "  data_to_proc_client['income_category'] = encoder.fit_transform(data_to_proc_client[['income_category']])\n"
     ]
    }
   ],
   "source": [
    "preproc_client, preproc_apart = data_preprocces(combined_df.copy())\n",
    "data_client = preproc_client.iloc[:len(data)].reset_index(drop=True)\n",
    "data_apart = preproc_apart.iloc[:len(data)].reset_index(drop=True)\n",
    "submission_client = preproc_client.iloc[len(data):].reset_index(drop=True)\n",
    "submission_apart = preproc_apart.iloc[len(data):].reset_index(drop=True)"
   ]
  },
  {
   "cell_type": "code",
   "execution_count": 32,
   "id": "e185417a-b1f8-40a3-84c0-6394efafda5d",
   "metadata": {},
   "outputs": [
    {
     "data": {
      "text/plain": [
       "array([False])"
      ]
     },
     "execution_count": 32,
     "metadata": {},
     "output_type": "execute_result"
    }
   ],
   "source": [
    "data_client.isnull().any().unique()"
   ]
  },
  {
   "cell_type": "code",
   "execution_count": 33,
   "id": "2d5b86c0-983a-4e68-a926-9754b4578e4b",
   "metadata": {},
   "outputs": [
    {
     "data": {
      "text/plain": [
       "array([False])"
      ]
     },
     "execution_count": 33,
     "metadata": {},
     "output_type": "execute_result"
    }
   ],
   "source": [
    "data_apart.isnull().any().unique()"
   ]
  },
  {
   "cell_type": "code",
   "execution_count": 34,
   "id": "fb30e57e-d614-4537-929e-183cb91a19fc",
   "metadata": {},
   "outputs": [
    {
     "data": {
      "text/plain": [
       "array([False])"
      ]
     },
     "execution_count": 34,
     "metadata": {},
     "output_type": "execute_result"
    }
   ],
   "source": [
    "submission_client.isnull().any().unique()"
   ]
  },
  {
   "cell_type": "code",
   "execution_count": 35,
   "id": "603ba758-57d9-4953-b1c5-9fc7b596cc50",
   "metadata": {},
   "outputs": [
    {
     "data": {
      "text/plain": [
       "array([False])"
      ]
     },
     "execution_count": 35,
     "metadata": {},
     "output_type": "execute_result"
    }
   ],
   "source": [
    "submission_apart.isnull().any().unique()"
   ]
  },
  {
   "cell_type": "code",
   "execution_count": 36,
   "id": "bcfce325-6dbd-411f-9f38-6d8891097e3e",
   "metadata": {},
   "outputs": [
    {
     "data": {
      "text/plain": [
       "((20483, 89), (9988, 89))"
      ]
     },
     "execution_count": 36,
     "metadata": {},
     "output_type": "execute_result"
    }
   ],
   "source": [
    "data_apart.shape, submission_apart.shape"
   ]
  },
  {
   "cell_type": "code",
   "execution_count": 37,
   "id": "85b01a08-49b8-43c2-9f15-4dc44dff2ded",
   "metadata": {},
   "outputs": [
    {
     "data": {
      "text/plain": [
       "Index(['total_revolving_bal_is_na', 'total_relationship_count',\n",
       "       'incineration_raion_is_na', 'office_sqm_5000_is_na', 'total_trans_ct',\n",
       "       'floor_is_na', 'income_category', 'income_category_is_na',\n",
       "       'card_category', 'railroad_terminal_raion_is_na',\n",
       "       'railroad_station_walk_km_is_na', 'dependent_count_is_na',\n",
       "       'full_sq_is_na', 'total_trans_amt', 'max_floor_is_na',\n",
       "       'culture_objects_top_25_is_na', 'num_room_is_na',\n",
       "       'avg_open_to_buy_is_na', 'avg_utilization_ratio', 'total_ct_chng_q4_q1',\n",
       "       'leisure_count_3000_is_na', 'build_count_mix_is_na', 'mkad_km_is_na',\n",
       "       'credit_limit', 'total_amt_chng_q4_q1', 'build_count_wood_is_na',\n",
       "       'customer_age_is_na', 'total_trans_amt_is_na',\n",
       "       'detention_facility_raion_is_na', 'detention_facility_km_is_na',\n",
       "       'water_1line_is_na', 'card_category_is_na', 'credit_limit_is_na',\n",
       "       'cafe_sum_1000_min_price_avg_is_na', 'nuclear_reactor_raion_is_na',\n",
       "       'metro_km_walk_is_na', 'total_ct_chng_q4_q1_is_na', 'avg_open_to_buy',\n",
       "       'cafe_count_1000_price_1000_is_na', 'contacts_count_12_mon_is_na',\n",
       "       'months_inactive_12_mon', 'school_education_centers_top_20_raion_is_na',\n",
       "       'thermal_power_plant_raion_is_na', 'market_count_1500_is_na',\n",
       "       'leisure_count_5000_is_na', 'months_inactive_12_mon_is_na',\n",
       "       'sport_count_2000_is_na', 'gender_is_na', 'dependent_count',\n",
       "       'trc_count_2000_is_na', '0_17_all', 'marital_status_is_na',\n",
       "       'oil_chemistry_raion_is_na', 'life_sq_is_na', 'education_level_is_na',\n",
       "       'total_revolving_bal', 'product_type_is_na', 'railroad_1line_is_na',\n",
       "       'public_transport_station_min_walk_is_na', 'contacts_count_12_mon',\n",
       "       'months_on_book_is_na', 'total_relationship_count_is_na',\n",
       "       'total_amt_chng_q4_q1_is_na', 'cafe_sum_1500_min_price_avg_is_na',\n",
       "       'avg_utilization_ratio_is_na', '0_17_all_is_na', 'customer_age',\n",
       "       'total_trans_ct_is_na', 'big_market_raion_is_na',\n",
       "       'radiation_raion_is_na', 'big_road1_1line_is_na', 'months_on_book',\n",
       "       'product_type_OwnerOccupier', 'gender_M', 'education_level_High School',\n",
       "       'education_level_Unknown', 'marital_status_Single'],\n",
       "      dtype='object')"
      ]
     },
     "execution_count": 37,
     "metadata": {},
     "output_type": "execute_result"
    }
   ],
   "source": [
    "data_client.columns"
   ]
  },
  {
   "cell_type": "markdown",
   "id": "9e7f3642-937e-4822-be0d-7d381f96f63a",
   "metadata": {},
   "source": [
    "# Fit models"
   ]
  },
  {
   "cell_type": "code",
   "execution_count": 48,
   "id": "dec69ecc-a917-43b5-97ed-172958bdcf38",
   "metadata": {
    "tags": []
   },
   "outputs": [],
   "source": [
    "from sklearn.model_selection import train_test_split\n",
    "from sklearn.naive_bayes import GaussianNB\n",
    "import xgboost as xgb\n",
    "\n",
    "data_client['__price_doc'] = targets['__price_doc']\n",
    "data_client['__churn'] = targets['__churn']\n",
    "train_client, test_client = train_test_split(data_client, test_size=0.2, random_state=RANDOM_STATE)\n",
    "\n",
    "data_apart['__price_doc'] = targets['__price_doc']\n",
    "train_apart, test_apart = train_test_split(data_apart, test_size=0.2, random_state=RANDOM_STATE)"
   ]
  },
  {
   "cell_type": "code",
   "execution_count": 49,
   "id": "4d98b96f-574e-407c-b516-a8e30be81a40",
   "metadata": {},
   "outputs": [
    {
     "data": {
      "text/plain": [
       "Index(['total_revolving_bal_is_na', 'sport_count_2000',\n",
       "       'office_sqm_5000_is_na', 'income_category_is_na',\n",
       "       'railroad_terminal_raion_is_na', 'railroad_station_walk_km_is_na',\n",
       "       'max_floor_is_na', 'num_room_is_na', 'build_count_wood_is_na',\n",
       "       'life_sq', 'leisure_count_5000', 'cafe_count_1000_price_1000',\n",
       "       'customer_age_is_na', 'total_trans_amt_is_na',\n",
       "       'detention_facility_raion_is_na', 'detention_facility_km_is_na',\n",
       "       'card_category_is_na', 'metro_km_walk_is_na',\n",
       "       'total_ct_chng_q4_q1_is_na', 'thermal_power_plant_raion_is_na',\n",
       "       'market_count_1500_is_na', 'leisure_count_5000_is_na',\n",
       "       'months_inactive_12_mon_is_na', 'sport_count_2000_is_na', 'floor',\n",
       "       'gender_is_na', 'detention_facility_km', 'life_sq_is_na',\n",
       "       'education_level_is_na', 'product_type_is_na', 'railroad_1line_is_na',\n",
       "       'market_count_1500', 'build_count_wood', 'avg_utilization_ratio_is_na',\n",
       "       '0_17_all_is_na', 'total_trans_ct_is_na',\n",
       "       'public_transport_station_min_walk', 'radiation_raion_is_na',\n",
       "       'floor_is_na', 'metro_km_walk', 'incineration_raion_is_na',\n",
       "       'full_sq_is_na', 'dependent_count_is_na',\n",
       "       'culture_objects_top_25_is_na', 'full_sq', 'mkad_km',\n",
       "       'avg_open_to_buy_is_na', 'num_room', 'build_count_mix_is_na',\n",
       "       'mkad_km_is_na', 'leisure_count_3000_is_na', 'water_1line_is_na',\n",
       "       'railroad_station_walk_km', 'credit_limit_is_na',\n",
       "       'cafe_sum_1000_min_price_avg_is_na', 'nuclear_reactor_raion_is_na',\n",
       "       'cafe_count_1000_price_1000_is_na', 'contacts_count_12_mon_is_na',\n",
       "       'school_education_centers_top_20_raion_is_na', 'trc_count_2000',\n",
       "       'build_count_mix', 'trc_count_2000_is_na', 'office_sqm_5000',\n",
       "       'marital_status_is_na', 'oil_chemistry_raion_is_na',\n",
       "       'leisure_count_3000', 'school_education_centers_top_20_raion',\n",
       "       'public_transport_station_min_walk_is_na', 'months_on_book_is_na',\n",
       "       'total_relationship_count_is_na', 'total_amt_chng_q4_q1_is_na',\n",
       "       'cafe_sum_1500_min_price_avg_is_na', 'cafe_sum_1500_min_price_avg',\n",
       "       'big_market_raion_is_na', 'max_floor', 'cafe_sum_1000_min_price_avg',\n",
       "       'big_road1_1line_is_na', 'big_market_raion_yes',\n",
       "       'oil_chemistry_raion_yes', 'railroad_terminal_raion_yes',\n",
       "       'radiation_raion_yes', 'railroad_1line_yes',\n",
       "       'thermal_power_plant_raion_yes', 'culture_objects_top_25_yes',\n",
       "       'nuclear_reactor_raion_yes', 'detention_facility_raion_yes',\n",
       "       'incineration_raion_yes', 'big_road1_1line_yes', 'water_1line_yes',\n",
       "       '__price_doc'],\n",
       "      dtype='object')"
      ]
     },
     "execution_count": 49,
     "metadata": {},
     "output_type": "execute_result"
    }
   ],
   "source": [
    "train_apart.columns"
   ]
  },
  {
   "cell_type": "code",
   "execution_count": 51,
   "id": "a49aff8d-5804-4261-b2be-b9f8017e595f",
   "metadata": {
    "tags": []
   },
   "outputs": [],
   "source": [
    "reg_model = xgb.XGBRegressor()\n",
    "reg_model.fit(train_apart.drop('__price_doc', axis = 1), train_apart['__price_doc'])\n",
    "\n",
    "train_apart['__price_predict'] = reg_model.predict(train_apart.drop('__price_doc', axis = 1))\n",
    "test_apart['__price_predict'] = reg_model.predict(test_apart.drop('__price_doc', axis = 1))\n",
    "submission_apart['__price_predict'] = reg_model.predict(submission_apart)\n",
    "submission_client['__price_doc'] = submission_apart['__price_predict'].copy()\n",
    "# # For case when predicted price below zero\n",
    "# train_apart.loc[train['__price_predict'] < 0.1, '__price_predict'] = 0.1\n",
    "# test_apart.loc[test['__price_predict'] < 0.1, '__price_predict'] = 0.1\n",
    "# submission_apart.loc[submission_apart['__price_predict'] < 0.1, '__price_predict'] = 0.1"
   ]
  },
  {
   "cell_type": "code",
   "execution_count": 52,
   "id": "6f60748a-cb04-44e5-a3b5-ce49d1ecb3b7",
   "metadata": {
    "tags": []
   },
   "outputs": [],
   "source": [
    "clf_model = GaussianNB()\n",
    "clf_model.fit(train_client.drop('__churn', axis = 1), train_client['__churn'])\n",
    "\n",
    "# Select probability for first class\n",
    "train_client['__churn_prob'] = clf_model.predict_proba(train_client.drop('__churn', axis = 1))[:, 1]\n",
    "test_client['__churn_prob'] = clf_model.predict_proba(test_client.drop('__churn', axis = 1))[:, 1]\n",
    "submission_client['__churn_prob'] = clf_model.predict_proba(submission_client)[:, 1]"
   ]
  },
  {
   "cell_type": "code",
   "execution_count": null,
   "id": "02d36690-726a-40c6-b17c-961bb98bcb07",
   "metadata": {},
   "outputs": [],
   "source": [
    "submission['__churn_prob'] = submission_client['__churn_prob']\n",
    "submission['__price_predict'] = submission_apart['__price_predict']"
   ]
  },
  {
   "cell_type": "markdown",
   "id": "a34a21b9-5c85-4c12-8a7b-da902f638674",
   "metadata": {},
   "source": [
    "# Select Priority Algorithm"
   ]
  },
  {
   "cell_type": "code",
   "execution_count": 25,
   "id": "b657ed3a-e95f-457b-b5eb-f1c5046ec7c2",
   "metadata": {
    "tags": []
   },
   "outputs": [],
   "source": [
    "def alg(x):\n",
    "    \"\"\"\n",
    "    Приоритет в выдаче кредита (от -∞ до +∞)\n",
    "    \n",
    "    +∞: максимальный приоритет, решение о выдаче будет рассматриваться первым\n",
    "     0: - минимальный приоритет, решение о выдаче будет рассматриваться последним\n",
    "    -1: - данная сделка не будет рассматриваться\n",
    "    \"\"\"\n",
    "    return x['__price_predict'] * x[]\n",
    "\n",
    "\n",
    "train['__priority'] = train.apply(alg, axis=1)\n",
    "test['__priority'] = test.apply(alg, axis=1)\n",
    "submission['__priority'] = submission.apply(alg, axis=1)"
   ]
  },
  {
   "cell_type": "markdown",
   "id": "27ad970d-6a39-478b-999b-09f2a55326dc",
   "metadata": {
    "tags": []
   },
   "source": [
    "# Calculate statistics"
   ]
  },
  {
   "cell_type": "code",
   "execution_count": 26,
   "id": "00328958-a781-49a6-baec-cedd2e641329",
   "metadata": {
    "tags": []
   },
   "outputs": [
    {
     "data": {
      "text/html": [
       "<div>\n",
       "<style scoped>\n",
       "    .dataframe tbody tr th:only-of-type {\n",
       "        vertical-align: middle;\n",
       "    }\n",
       "\n",
       "    .dataframe tbody tr th {\n",
       "        vertical-align: top;\n",
       "    }\n",
       "\n",
       "    .dataframe thead th {\n",
       "        text-align: right;\n",
       "    }\n",
       "</style>\n",
       "<table border=\"1\" class=\"dataframe\">\n",
       "  <thead>\n",
       "    <tr style=\"text-align: right;\">\n",
       "      <th></th>\n",
       "      <th>__price_predict</th>\n",
       "      <th>__price_doc</th>\n",
       "      <th>__churn_prob</th>\n",
       "      <th>__churn</th>\n",
       "    </tr>\n",
       "  </thead>\n",
       "  <tbody>\n",
       "    <tr>\n",
       "      <th>count</th>\n",
       "      <td>16386.000000</td>\n",
       "      <td>16386.000000</td>\n",
       "      <td>16386.000000</td>\n",
       "      <td>16386.000000</td>\n",
       "    </tr>\n",
       "    <tr>\n",
       "      <th>mean</th>\n",
       "      <td>6.801748</td>\n",
       "      <td>6.808233</td>\n",
       "      <td>0.259956</td>\n",
       "      <td>0.162456</td>\n",
       "    </tr>\n",
       "    <tr>\n",
       "      <th>std</th>\n",
       "      <td>2.987669</td>\n",
       "      <td>4.568388</td>\n",
       "      <td>0.189225</td>\n",
       "      <td>0.368880</td>\n",
       "    </tr>\n",
       "    <tr>\n",
       "      <th>min</th>\n",
       "      <td>4.784009</td>\n",
       "      <td>0.100000</td>\n",
       "      <td>0.000000</td>\n",
       "      <td>0.000000</td>\n",
       "    </tr>\n",
       "    <tr>\n",
       "      <th>25%</th>\n",
       "      <td>5.354028</td>\n",
       "      <td>4.550000</td>\n",
       "      <td>0.133899</td>\n",
       "      <td>0.000000</td>\n",
       "    </tr>\n",
       "    <tr>\n",
       "      <th>50%</th>\n",
       "      <td>5.354028</td>\n",
       "      <td>6.000000</td>\n",
       "      <td>0.216737</td>\n",
       "      <td>0.000000</td>\n",
       "    </tr>\n",
       "    <tr>\n",
       "      <th>75%</th>\n",
       "      <td>7.444775</td>\n",
       "      <td>7.900000</td>\n",
       "      <td>0.348472</td>\n",
       "      <td>0.000000</td>\n",
       "    </tr>\n",
       "    <tr>\n",
       "      <th>max</th>\n",
       "      <td>41.345969</td>\n",
       "      <td>111.111112</td>\n",
       "      <td>0.974217</td>\n",
       "      <td>1.000000</td>\n",
       "    </tr>\n",
       "  </tbody>\n",
       "</table>\n",
       "</div>"
      ],
      "text/plain": [
       "       __price_predict   __price_doc  __churn_prob       __churn\n",
       "count     16386.000000  16386.000000  16386.000000  16386.000000\n",
       "mean          6.801748      6.808233      0.259956      0.162456\n",
       "std           2.987669      4.568388      0.189225      0.368880\n",
       "min           4.784009      0.100000      0.000000      0.000000\n",
       "25%           5.354028      4.550000      0.133899      0.000000\n",
       "50%           5.354028      6.000000      0.216737      0.000000\n",
       "75%           7.444775      7.900000      0.348472      0.000000\n",
       "max          41.345969    111.111112      0.974217      1.000000"
      ]
     },
     "execution_count": 26,
     "metadata": {},
     "output_type": "execute_result"
    }
   ],
   "source": [
    "pd.concat([\n",
    "    train['__price_predict'].describe(),\n",
    "    train['__price_doc'].describe(),\n",
    "    train['__churn_prob'].describe(),\n",
    "    train['__churn'].describe(),\n",
    "], axis=1)"
   ]
  },
  {
   "cell_type": "markdown",
   "id": "a7ec9477-1cf5-4141-9a79-e81762de08b9",
   "metadata": {
    "tags": []
   },
   "source": [
    "# Calculate key metrics"
   ]
  },
  {
   "cell_type": "code",
   "execution_count": 27,
   "id": "28f7b21e-7e4b-4187-a3b8-ddf97ebd7248",
   "metadata": {
    "tags": []
   },
   "outputs": [
    {
     "data": {
      "text/html": [
       "<div>\n",
       "<style scoped>\n",
       "    .dataframe tbody tr th:only-of-type {\n",
       "        vertical-align: middle;\n",
       "    }\n",
       "\n",
       "    .dataframe tbody tr th {\n",
       "        vertical-align: top;\n",
       "    }\n",
       "\n",
       "    .dataframe thead th {\n",
       "        text-align: right;\n",
       "    }\n",
       "</style>\n",
       "<table border=\"1\" class=\"dataframe\">\n",
       "  <thead>\n",
       "    <tr style=\"text-align: right;\">\n",
       "      <th></th>\n",
       "      <th>train</th>\n",
       "      <th>test</th>\n",
       "      <th>desc</th>\n",
       "    </tr>\n",
       "  </thead>\n",
       "  <tbody>\n",
       "    <tr>\n",
       "      <th>total_profit</th>\n",
       "      <td>837.000</td>\n",
       "      <td>470.000</td>\n",
       "      <td>Итоговая полученная прибыль (Ключевая метрика)...</td>\n",
       "    </tr>\n",
       "    <tr>\n",
       "      <th>issue_amount</th>\n",
       "      <td>24997.000</td>\n",
       "      <td>7284.000</td>\n",
       "      <td>Итоговая выданная сумма (25 000 максимум), млн...</td>\n",
       "    </tr>\n",
       "    <tr>\n",
       "      <th>bad_loans</th>\n",
       "      <td>14.300</td>\n",
       "      <td>12.800</td>\n",
       "      <td>Доля выданных кредитов с задолженностью, %</td>\n",
       "    </tr>\n",
       "    <tr>\n",
       "      <th>churn_auc</th>\n",
       "      <td>0.713</td>\n",
       "      <td>0.734</td>\n",
       "      <td>Метрика ROC AUC по модели предсказания задолже...</td>\n",
       "    </tr>\n",
       "    <tr>\n",
       "      <th>price_nmsle</th>\n",
       "      <td>-0.164</td>\n",
       "      <td>-0.166</td>\n",
       "      <td>Метрика Negative Mean Squared Logarithmic Erro...</td>\n",
       "    </tr>\n",
       "  </tbody>\n",
       "</table>\n",
       "</div>"
      ],
      "text/plain": [
       "                  train      test  \\\n",
       "total_profit    837.000   470.000   \n",
       "issue_amount  24997.000  7284.000   \n",
       "bad_loans        14.300    12.800   \n",
       "churn_auc         0.713     0.734   \n",
       "price_nmsle      -0.164    -0.166   \n",
       "\n",
       "                                                           desc  \n",
       "total_profit  Итоговая полученная прибыль (Ключевая метрика)...  \n",
       "issue_amount  Итоговая выданная сумма (25 000 максимум), млн...  \n",
       "bad_loans            Доля выданных кредитов с задолженностью, %  \n",
       "churn_auc     Метрика ROC AUC по модели предсказания задолже...  \n",
       "price_nmsle   Метрика Negative Mean Squared Logarithmic Erro...  "
      ]
     },
     "execution_count": 27,
     "metadata": {},
     "output_type": "execute_result"
    }
   ],
   "source": [
    "score = pd.concat([\n",
    "    pd.Series(calc_all_metrics(train), name='train'),\n",
    "    pd.Series(calc_all_metrics(test), name='test'),\n",
    "], axis=1)\n",
    "\n",
    "# добавляем колонку с описанием метрики\n",
    "score['desc'] = score.index.map(METRICS_DESC)\n",
    "score"
   ]
  },
  {
   "cell_type": "markdown",
   "id": "6f4e0248-4898-4f0d-bb91-c40e392a2004",
   "metadata": {},
   "source": [
    "# Submission\n",
    "\n",
    "Файл с результатами вашего решения должен содержать только следующие колонки ['__price_predict', '__churn_prob', '__priority']"
   ]
  },
  {
   "cell_type": "code",
   "execution_count": 28,
   "id": "99064d56-cd2f-4966-b50b-b376954cd88f",
   "metadata": {
    "tags": []
   },
   "outputs": [],
   "source": [
    "mysub = submission[['__price_predict', '__churn_prob', '__priority']]\n",
    "mysub.to_csv(SUBMISSION_PATH, index=False)\n",
    "\n",
    "if mysub.shape != (9988, 3):\n",
    "    raise ValueError('Неправильный размер submission файла')"
   ]
  },
  {
   "cell_type": "code",
   "execution_count": 29,
   "id": "04e16d9c-c356-40bc-81a4-2eb99b57a779",
   "metadata": {
    "tags": []
   },
   "outputs": [
    {
     "name": "stderr",
     "output_type": "stream",
     "text": [
      "\"ls\" ­Ґ пў«пҐвбп ў­гваҐ­­Ґ© Ё«Ё ў­Ґи­Ґ©\n",
      "Є®¬ ­¤®©, ЁбЇ®«­пҐ¬®© Їа®Ја ¬¬®© Ё«Ё Ї ЄҐв­л¬ д ©«®¬.\n"
     ]
    }
   ],
   "source": [
    "!ls -lh ../data/submissions/*.csv"
   ]
  },
  {
   "cell_type": "code",
   "execution_count": null,
   "id": "ea047a2f-f53a-4d38-8472-d1c53c04b03d",
   "metadata": {},
   "outputs": [],
   "source": []
  }
 ],
 "metadata": {
  "kernelspec": {
   "display_name": "Python 3",
   "language": "python",
   "name": "python3"
  },
  "language_info": {
   "codemirror_mode": {
    "name": "ipython",
    "version": 3
   },
   "file_extension": ".py",
   "mimetype": "text/x-python",
   "name": "python",
   "nbconvert_exporter": "python",
   "pygments_lexer": "ipython3",
   "version": "3.10.12"
  }
 },
 "nbformat": 4,
 "nbformat_minor": 5
}
